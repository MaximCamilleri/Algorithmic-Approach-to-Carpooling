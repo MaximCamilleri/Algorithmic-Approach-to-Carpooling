{
 "cells": [
  {
   "cell_type": "markdown",
   "metadata": {},
   "source": [
    "# Car Pooling Algorithm Analysis"
   ]
  },
  {
   "cell_type": "code",
   "execution_count": 1,
   "metadata": {},
   "outputs": [],
   "source": [
    "from pandas import reset_option\n",
    "import matplotlib.pyplot as plt\n",
    "import random\n",
    "import requests\n",
    "import copy\n",
    "import math"
   ]
  },
  {
   "cell_type": "markdown",
   "metadata": {},
   "source": [
    "### General Setup"
   ]
  },
  {
   "cell_type": "code",
   "execution_count": 3,
   "metadata": {},
   "outputs": [],
   "source": [
    "class node:\n",
    "    def __init__(self, id, type, flag, lat, long):\n",
    "        self.id = id\n",
    "        self.type = type # 0: car, 1: start, 2:end\n",
    "        self.isAccessible = flag\n",
    "        self.lat = lat\n",
    "        self.long = long"
   ]
  },
  {
   "cell_type": "code",
   "execution_count": 4,
   "metadata": {},
   "outputs": [],
   "source": [
    "class edge:\n",
    "    def __init__(self, id, startNodeId, endNodeId, distance, polyLine, duration):\n",
    "        self.id = id\n",
    "        self.startNodeId = startNodeId # start point of an edge\n",
    "        self.endNodeId = endNodeId # end point of an edge\n",
    "        self.distance = distance # distance between two points\n",
    "        self.polyLine = polyLine # google polyline encripted value for this path\n",
    "        self.duration = duration"
   ]
  },
  {
   "cell_type": "code",
   "execution_count": 5,
   "metadata": {},
   "outputs": [],
   "source": [
    "# Graph Class\n",
    "class graph:\n",
    "    def __init__(self):\n",
    "        self.adjList = [[]] # list of edges\n",
    "        self.nodes = [] # list of nodes\n",
    "        self.nodeCounter = 0 # points to the next free node id\n",
    "        self.edgeCounter = 0 # points to the next free edge id \n",
    "    \n",
    "    def getNodeFromId(self, nodeId):\n",
    "        for n in self.nodes:\n",
    "            if n.id == nodeId:\n",
    "                return n\n",
    "    \n",
    "    def getEdgeFromEdgeNodes(self, node1, node2):\n",
    "        for e in self.adjList[node1]: # loops over all the edges related to the start node\n",
    "            if e.endNodeId == node2: # if the edge is equal to the end node return it\n",
    "                return e\n",
    "        return -1 # -1 means there is no edge between the two entered nodes \n",
    "    \n",
    "    def addNode(self, type, flag, lat, long):\n",
    "        self.nodes.append(node(self.nodeCounter, type, flag, lat, long))\n",
    "        self.nodeCounter += 1\n",
    "        self.adjList.append([])\n",
    "    \n",
    "    def addEdge(self, startNode, endNode, weight, polyline, duration):\n",
    "        self.adjList[startNode].append(edge(self.edgeCounter, startNode, endNode, weight, polyline, duration))\n",
    "        self.edgeCounter += 1\n",
    "    \n",
    "    def calcEdgeWeight(self, startNode, endNode):\n",
    "        s = self.getNodeFromId(startNode) # getting the start and end nodes \n",
    "        e = self.getNodeFromId(endNode)\n",
    "\n",
    "        r = requests.get('http://127.0.0.1:5000/route/v1/driving/'+ str(s.long) +','+ str(s.lat) +';'+ str(e.long) +','+ str(e.lat) +'?steps=false') # makes a request using the pos of the start and end nodes\n",
    "        data = r.json() # converts the json data to a readable format\n",
    "\n",
    "        return data['routes'][0]['distance'], data['routes'][0]['geometry'], data['routes'][0]['duration'] # returns the distance to be used as the weight of an edge and the polyline\n",
    "    \n",
    "    def addCar(self, loc):\n",
    "        self.addNode(0, False, loc[1], loc[0]) # car always has a type value of 0\n",
    "\n",
    "        for node in self.nodes:\n",
    "            if node.type == 1: # add a connection from the new car to all the starting nodes \n",
    "                w, l = self.calcEdgeWeight(self.nodeCounter-1, node.id)\n",
    "                self.addEdge(self.nodeCounter-1, node.id, w, l)\n",
    "\n",
    "    def addTrip(self, start, end):\n",
    "        self.addNode(1, True, start[1], start[0]) # add the start node of a trip\n",
    "        self.addNode(2, False, end[1], end[0]) # add the end node of a trip\n",
    "\n",
    "        for node in self.nodes:\n",
    "            if node.id != self.nodeCounter-1 and node.id != self.nodeCounter-2: # add an edge from every node to the new start and end nodes \n",
    "                w, l, d = self.calcEdgeWeight(node.id, self.nodeCounter-2)\n",
    "                self.addEdge(node.id, self.nodeCounter-2, w, l, d)\n",
    "                if node.type != 0: # if not a car\n",
    "                    w, l, d = self.calcEdgeWeight(node.id, self.nodeCounter-1)\n",
    "                    self.addEdge(node.id, self.nodeCounter-1, w, l, d) # add an edge from every node to the new end node (execpt form cars)\n",
    "\n",
    "            if node.type != 0 and node.id != self.nodeCounter-2: # add an edge from the new start node to all the other start and end nodes\n",
    "                w, l, d = self.calcEdgeWeight(self.nodeCounter-2, node.id)\n",
    "                self.addEdge(self.nodeCounter-2, node.id, w, l, d)\n",
    "\n",
    "            if node.type != 0 and node.id != self.nodeCounter-1 and node.id != self.nodeCounter-2: # add an edge from the new end node to all the other end and start nodes\n",
    "                w, l, d = self.calcEdgeWeight(self.nodeCounter-1, node.id)\n",
    "                self.addEdge(self.nodeCounter-1, node.id, w, l, d)\n",
    "    \n",
    "    # Functions for testing \n",
    "\n",
    "    def printAdjList(self):\n",
    "        for x in range(0, len(self.adjList)):\n",
    "            print(x, \": \", end =\" \")\n",
    "            for y in self.adjList[x]:\n",
    "                print(y.endNodeId, end =\" \")\n",
    "            print(\"\")\n"
   ]
  },
  {
   "cell_type": "markdown",
   "metadata": {},
   "source": [
    "#### General Methods"
   ]
  },
  {
   "cell_type": "code",
   "execution_count": 6,
   "metadata": {},
   "outputs": [],
   "source": [
    "def checkSolution(solution, graph):\n",
    "    correct = True\n",
    "    # loop over the whole solution and check if it is possible to get from one node to the next. If it is solution is valid\n",
    "    for n in range(1, len(solution)): \n",
    "        n1 = solution[n]\n",
    "        n2 = solution[n-1]\n",
    "        edge = graph.getEdgeFromEdgeNodes(n2, n1) # returns -1 if there is no edge\n",
    "\n",
    "        if edge == -1:\n",
    "            return False # the solution is not valid \n",
    "\n",
    "        if graph.getNodeFromId(n1).type == 2: # if the point is an end point \n",
    "            start = n1 -1\n",
    "            for x in solution[:n]: # check if its start point is in the list before it\n",
    "                if x == start:\n",
    "                    correct = True\n",
    "                    break\n",
    "                else:\n",
    "                    correct = False\n",
    "\n",
    "        if not correct:\n",
    "            return False\n",
    "\n",
    "    return True"
   ]
  },
  {
   "cell_type": "code",
   "execution_count": 7,
   "metadata": {},
   "outputs": [],
   "source": [
    "def fitnessFuncDistance(solutions, graph):\n",
    "    value = 0\n",
    "    for solution in solutions:\n",
    "        for n in range(1, len(solution)):\n",
    "            n1 = solution[n]\n",
    "            n2 = solution[n-1]\n",
    "            value += graph.getEdgeFromEdgeNodes(n2, n1).distance # adds up the weight of all the edges in the path\n",
    "    \n",
    "    return value"
   ]
  },
  {
   "cell_type": "code",
   "execution_count": 8,
   "metadata": {},
   "outputs": [],
   "source": [
    "def fitnessFuncDuration(solutions, graph):\n",
    "    value = 0\n",
    "    startNodes = []\n",
    "    for solution in solutions:\n",
    "        for n in range(1, len(solution)):\n",
    "            if graph.getNodeFromId(n).type == 1:\n",
    "                startNodes.append(n)\n",
    "    \n",
    "    for solution in solutions:\n",
    "        duration = 0\n",
    "        for n in range(1, len(solution)):\n",
    "            n1 = solution[n]\n",
    "            n2 = solution[n-1]\n",
    "            duration += graph.getEdgeFromEdgeNodes(n2, n1).duration\n",
    "\n",
    "            if n in startNodes:\n",
    "                value += duration**2\n",
    "    \n",
    "    value =  math.sqrt(value)\n",
    "    \n",
    "    return value"
   ]
  },
  {
   "cell_type": "code",
   "execution_count": 9,
   "metadata": {},
   "outputs": [],
   "source": [
    "def fitnessFuncComposite(solutions, graph):\n",
    "    distImp = 0.5\n",
    "    durImp = 0.5\n",
    "\n",
    "    value = 0\n",
    "    for solution in solutions:\n",
    "        for n in range(1, len(solution)):\n",
    "            n1 = solution[n]\n",
    "            n2 = solution[n-1]\n",
    "            value += graph.getEdgeFromEdgeNodes(n2, n1).duration # adds up the weight of all the edges in the path\n",
    "\n",
    "    return (value*distImp) + (fitnessFuncDuration(solutions, graph)*durImp)\n"
   ]
  },
  {
   "cell_type": "markdown",
   "metadata": {},
   "source": [
    "#### Tabu Search"
   ]
  },
  {
   "cell_type": "code",
   "execution_count": 10,
   "metadata": {},
   "outputs": [],
   "source": [
    "carSize = 3\n",
    "def initSolution(graph): # used to randomly generate a solution \n",
    "    solutions = []\n",
    "    visited = [False] * len(graph.nodes) # will indicate if a node has been visited yet\n",
    "    \n",
    "    nodePointer = 0\n",
    "\n",
    "\n",
    "    for n in graph.nodes:\n",
    "        solution = []\n",
    "        if n.type == 0: # finds a car as the starting point\n",
    "            solution.append(n.id)\n",
    "            visited[n.id] = True\n",
    "            s = 0\n",
    "            while s < carSize and s < (len(graph.nodes)/2)-1:\n",
    "                if graph.getNodeFromId(nodePointer).type != 0:\n",
    "                    solution.append(nodePointer)\n",
    "                    solution.append(nodePointer + 1)\n",
    "\n",
    "                    nodePointer += 2\n",
    "                    s += 1\n",
    "                else:\n",
    "                    nodePointer += 1\n",
    "\n",
    "            solutions.append(solution)\n",
    "\n",
    "    return solutions"
   ]
  },
  {
   "cell_type": "code",
   "execution_count": 11,
   "metadata": {},
   "outputs": [],
   "source": [
    "def neighborhood(solutions, graph): # returns all the possible swaps for a given solution \n",
    "    neighborhood = []\n",
    "    neighborhood2 = []\n",
    "\n",
    "    for s in range(len(solutions)):\n",
    "        for x in range(1, len(solutions[s])):\n",
    "            for y in range(x + 1, len(solutions[s])):\n",
    "                newSolution = copy.deepcopy(solutions)\n",
    "                newSolution[s][x], newSolution[s][y] = newSolution[s][y], newSolution[s][x] # swap 2 values \n",
    "                if checkSolution(newSolution[s], graph) == True: # check if swap is valid\n",
    "                    neighborhood.append(newSolution) # if swap is good add it to the list \n",
    "        \n",
    "    for s in range(len(solutions)):\n",
    "        for pos in range(1, len(solutions[s])):\n",
    "            if graph.getNodeFromId(solutions[s][pos]).type == 1:\n",
    "                start = pos\n",
    "                end = solutions[s].index(graph.getNodeFromId(solutions[s][pos]+1).id)\n",
    "\n",
    "                for sol in range(s+1, len(solutions)):\n",
    "                    for index in range(1, len(solutions[s])):\n",
    "                        if graph.getNodeFromId(solutions[sol][index]).type == 1:\n",
    "                            newSolution = copy.deepcopy(solutions)\n",
    "                            temp1, temp2 = newSolution[s][start], newSolution[s][end]\n",
    "                            newSolution[s][start], newSolution[s][end] = newSolution[sol][index], newSolution[sol][solutions[sol].index(graph.getNodeFromId(solutions[sol][index]+1).id)]\n",
    "                            newSolution[sol][index], newSolution[sol][solutions[sol].index(graph.getNodeFromId(solutions[sol][index]+1).id)] = temp1, temp2\n",
    "                            neighborhood2.append(newSolution)\n",
    "\n",
    "\n",
    "    \n",
    "    return neighborhood, neighborhood2"
   ]
  },
  {
   "cell_type": "code",
   "execution_count": 12,
   "metadata": {},
   "outputs": [],
   "source": [
    "def tabuSearch(graph, iterations, tabuSize, s, fitnessFunc):\n",
    "    counts = []\n",
    "    bestSolution = s\n",
    "    solution = bestSolution\n",
    "    tabuList = list()\n",
    "    tabuList2 = list()\n",
    "    bestCost = fitnessFunc(bestSolution, graph)\n",
    "    counter = 1\n",
    "\n",
    "    while counter <= iterations:\n",
    "        neighbours, neighbours2 = neighborhood(solution, graph)\n",
    "        # print(neighbours)\n",
    "        found = False # indicates we found a set of different nodes that are not in the tabu list \n",
    "        currentBestSolutionIndex = 0\n",
    "        currentBestSolution = neighbours[currentBestSolutionIndex]\n",
    "\n",
    "        while not found and currentBestSolutionIndex < len(neighbours) - 1:\n",
    "            i = 0\n",
    "            breaks = False\n",
    "            while i < len(currentBestSolution):\n",
    "                j = 0\n",
    "                while j < len(currentBestSolution[i]):\n",
    "                    if currentBestSolution[i][j] != solution[i][j]: # if the same node position is not equal \n",
    "                        firstNode = currentBestSolution[i][j]\n",
    "                        secondNode = solution[i][j]\n",
    "                        breaks = True\n",
    "                        break\n",
    "                    j += 1\n",
    "                    if breaks:\n",
    "                        break\n",
    "                i += 1\n",
    "\n",
    "            if [firstNode, secondNode] not in tabuList and [secondNode, firstNode] not in tabuList: # check if the swap is in the tabu list or not \n",
    "                tabuList.append([firstNode, secondNode]) # add the set to the tabuList\n",
    "                found = True \n",
    "\n",
    "                solution = currentBestSolution\n",
    "                cost = fitnessFunc(currentBestSolution, graph)\n",
    "\n",
    "                if cost < bestCost: # checks if the new solution is better than the current best \n",
    "                    bestCost = cost\n",
    "                    bestSolution = solution\n",
    "            \n",
    "            else:\n",
    "                currentBestSolutionIndex += 1 # if nothing was found in with the current swap, go the the next one \n",
    "                currentBestSolution = neighbours[currentBestSolutionIndex]\n",
    "        \n",
    "        if len(tabuList) >= tabuSize:\n",
    "            tabuList.pop(0) # removes the oldest element in the list\n",
    "\n",
    "        counter = counter + 1\n",
    "\n",
    "        if len(neighbours2) > 0:\n",
    "            found = False\n",
    "            size = 0\n",
    "            nextSoluiton = neighbours2[size]\n",
    "\n",
    "            while not found and size < len(neighbours2) - 1:\n",
    "                i = 0\n",
    "                breaks = False\n",
    "                while i < len(nextSoluiton): \n",
    "                    j = 0\n",
    "                    pointsFound = 0\n",
    "                    while j < len(nextSoluiton[i]):\n",
    "                        if nextSoluiton[i][j] != solution[i][j]:\n",
    "                            if pointsFound == 0:\n",
    "                                start1 = nextSoluiton[i][j]\n",
    "                                start2 = solution[i][j]\n",
    "                                pointsFound += 1\n",
    "                            else:\n",
    "                                end1 = nextSoluiton[i][j]\n",
    "                                end2 = solution[i][j]\n",
    "                                breaks = True\n",
    "                                break\n",
    "                        j += 1\n",
    "                    if breaks == True:\n",
    "                        break\n",
    "                    i += 1\n",
    "\n",
    "                if [[start1, end1], [start2, end2]] not in tabuList2 and [[start2, end2], [start1, end1]] not in tabuList2:\n",
    "                    tabuList2.append([[start1, end1], [start2, end2]])\n",
    "                    found = True \n",
    "\n",
    "                    solution = nextSoluiton\n",
    "                    cost = fitnessFunc(solution, graph)\n",
    "\n",
    "                    if cost < bestCost: # checks if the new solution is better than the current best \n",
    "                        bestCost = cost\n",
    "                        bestSolution = solution\n",
    "                else:\n",
    "                    size += 1 # if nothing was found in with the current swap, go the the next one \n",
    "                    nextSoluiton = neighbours2[size]\n",
    "\n",
    "                if len(tabuList2) >= tabuSize:\n",
    "                    tabuList2.pop(0) # removes the oldest element in the list\n",
    "        counts.append(bestCost)\n",
    "    \n",
    "    return bestSolution, bestCost, counts"
   ]
  },
  {
   "cell_type": "markdown",
   "metadata": {},
   "source": [
    "#### Genetic Algorithms"
   ]
  },
  {
   "cell_type": "code",
   "execution_count": 13,
   "metadata": {},
   "outputs": [],
   "source": [
    "class geneticAlgorithm:\n",
    "    def __init__(self, graph, ps, fitnessFunc):\n",
    "        self.graph = graph\n",
    "        self.populationSize = ps\n",
    "        self.population = []\n",
    "        self.fitness = []\n",
    "        self.normFitness = [999] * ps # normalized values\n",
    "        self.fitnessFunc = fitnessFunc\n",
    "\n",
    "        self.initPopulation()\n",
    "        self.normalizeFitness()\n",
    "    \n",
    "    def initPopulation(self):\n",
    "        for x in range(self.populationSize):\n",
    "            self.population.append(initSolution(self.graph))\n",
    "            self.fitness.append(self.fitnessFunc(self.population[x], self.graph))\n",
    "    \n",
    "    def normalizeFitness(self): #sets all the weights values to be between 0 and 1\n",
    "        total = 0\n",
    "        for i in range(self.populationSize):\n",
    "            total += self.fitness[i]\n",
    "\n",
    "        for i in range(self.populationSize):\n",
    "            self.normFitness[i] = self.fitness[i]/total\n",
    "    \n",
    "    def pickSolution(self):\n",
    "        index = 0\n",
    "        r = random.uniform(0, 1)\n",
    "\n",
    "        while r > 0: # loops randomly picking form the top solutions\n",
    "            r = r - self.normFitness[index]\n",
    "            index += 1\n",
    "        \n",
    "        return self.population[index-1]\n",
    "    \n",
    "    def swap(self, solution):\n",
    "        swapped = False\n",
    "        while not swapped:\n",
    "            rand = bool(random.getrandbits(1)) # this value decides if we will swap in the same car, or swap cars. \n",
    "            if rand: # same car\n",
    "                sol = random.randint(1, len(solution)-1)\n",
    "                n1 = random.randint(1, len(solution[sol])-1)\n",
    "                n2 = random.randint(1, len(solution[sol])-1)\n",
    "\n",
    "                newSolution = copy.deepcopy(solution)\n",
    "                newSolution[sol][n1], newSolution[sol][n2] = newSolution[sol][n2], newSolution[sol][n1] # swap 2 values\n",
    "                swapped = checkSolution(newSolution[sol], self.graph)\n",
    "            else: # different cars\n",
    "                sol = random.randint(0, len(solution)-1)\n",
    "                for x in range(1, len(solution[sol])-1): # find trip in first car\n",
    "                    if self.graph.getNodeFromId(solution[sol][x]).type == 1:\n",
    "                        start1 = x\n",
    "                        end1 = solution[sol].index(self.graph.getNodeFromId(solution[sol][x]+1).id)\n",
    "                \n",
    "                sol2 = random.randint(0, len(solution)-1)\n",
    "                while sol2 == sol:\n",
    "                    sol2 = random.randint(0, len(solution)-1)\n",
    "\n",
    "                for y in range(1, len(solution[sol2])-1): # find trip in second car\n",
    "                    if self.graph.getNodeFromId(solution[sol2][y]).type == 1:\n",
    "                        start2 = y\n",
    "                        end2 = solution[sol2].index(self.graph.getNodeFromId(solution[sol2][y]+1).id)\n",
    "\n",
    "                newSolution = copy.deepcopy(solution)\n",
    "                temp1, temp2 = newSolution[sol][start1], newSolution[sol][end1]\n",
    "                newSolution[sol][start1], newSolution[sol][end1] = newSolution[sol2][start2], newSolution[sol2][end2] # swap the trips\n",
    "                newSolution[sol2][start2], newSolution[sol2][end2] = temp1, temp2\n",
    "                swapped = True\n",
    "                \n",
    "        return newSolution\n",
    "    \n",
    "    def mutateSolution(self, solution, mutationFactor):\n",
    "        newSolution = self.swap(solution)\n",
    "        return newSolution\n",
    "    \n",
    "    def findBestSolution(self): # returns the best solution in a population\n",
    "        bestSolution = self.population[0]\n",
    "        bestCost = self.fitness[0]\n",
    "        for i in range(1, self.populationSize):\n",
    "            if self.fitness[i] < bestCost:\n",
    "                bestCost = self.fitness[i]\n",
    "                bestSolution = self.population[i]\n",
    "        \n",
    "        return bestSolution, bestCost\n",
    "        \n",
    "    \n",
    "    def geneticAlgorithm(self, iterations):\n",
    "        costs = []\n",
    "        bestSolution, bestCost = self.findBestSolution()\n",
    "        costs.append(bestCost)\n",
    "        for iter in range(1, iterations): # loop for specified amount \n",
    "            newPopultion = []\n",
    "            newFitness = []\n",
    "            for s in range(self.populationSize): # create the next generation\n",
    "                newPopultion.append(self.mutateSolution(self.pickSolution(), 1))\n",
    "                newFitness.append(self.fitnessFunc(newPopultion[s], self.graph))\n",
    "            self.population = newPopultion\n",
    "            self.fitness = newFitness\n",
    "            self.normalizeFitness()\n",
    "\n",
    "            popBestSolution, popBestCost = self.findBestSolution()\n",
    "            if popBestCost < bestCost: # if new best is found\n",
    "                bestSolution = popBestSolution\n",
    "                bestCost = popBestCost\n",
    "            costs.append(bestCost)\n",
    "        \n",
    "        return bestSolution, bestCost, costs"
   ]
  },
  {
   "cell_type": "markdown",
   "metadata": {},
   "source": [
    "### Testing"
   ]
  },
  {
   "cell_type": "code",
   "execution_count": 14,
   "metadata": {},
   "outputs": [],
   "source": [
    "network = graph()\n",
    "# enter coords as long, lat\n",
    "network.addCar([14.513809277460041, 35.89897453256716]) # valletta\n",
    "network.addCar([14.349747452527506, 35.952589620545496]) # Mellieha\n",
    "\n",
    "network.addTrip([14.423235598020154, 35.91419450996914], [14.407218690503381, 35.888194056331706]) # Mosta to mdina\n",
    "network.addTrip([14.49291350433241, 35.87369410066685], [14.513809277460041, 35.89897453256716]) # Marsa to Valletta\n",
    "network.addTrip([14.349747452527506, 35.952589620545496], [14.488425821564382, 35.88613649037252])  # Mellieha to Hamrun\n",
    "\n",
    "network.addTrip([14.396021566820055, 35.93589926856759], [14.407218690503381, 35.888194056331706]) # st pauls bay to mdina\n",
    "network.addTrip([14.513809277460041, 35.89897453256716], [14.396021566820055, 35.93589926856759]) # Valletta to st pauls bay\n",
    "network.addTrip([14.469391291395608,35.87691014067125], [14.488425821564382, 35.88613649037252])  # qormi to Hamrun"
   ]
  },
  {
   "cell_type": "code",
   "execution_count": 15,
   "metadata": {},
   "outputs": [],
   "source": [
    "network2 = graph()\n",
    "\n",
    "network2.addCar([14.381200578207975, 35.96174457330435])   # Selmun\n",
    "network2.addCar([14.396564271819427, 35.93596619845886])   # St Pauls Bay\n",
    "network2.addCar([14.361974506556155, 35.91942469964549])   # Mgarr\n",
    "network2.addCar([14.40652063325507, 35.888417448220515])   # Mdina\n",
    "network2.addCar([14.38532045332923, 35.86289340290897])    # Had-Dingli\n",
    "network2.addCar([14.438792970654086, 35.876734437130544])  # Haz-Zebbug\n",
    "network2.addCar([14.454156663043637, 35.895301272593])     # Balzan\n",
    "network2.addCar([14.493810440887742, 35.893632521550096])  # Pieta\n",
    "network2.addCar([14.511148240026317, 35.86741460941653])   # Tarxien\n",
    "network2.addCar([14.492866305085785, 35.836108659428106])  # Hal Safi\n",
    "    \n",
    "network2.addTrip([14.423235598020154, 35.91419450996914], [14.407218690503381, 35.888194056331706])   # Mosta to mdina\n",
    "network2.addTrip([14.545566346261706, 35.87283971673811], [14.535609986947806, 35.85454588170675])    # Haz-Zabbar to zejtun\n",
    "network2.addTrip([14.495355394293833, 35.90566064778522], [14.487029817971004, 35.89599657516383])    # Gzira to Msida\n",
    "network2.addTrip([14.466087130603144, 35.895301272651956], [14.419738560123472, 35.89057305350045])   # Birkirkara to Attard\n",
    "network2.addTrip([14.49291350433241, 35.87369410066685], [14.513809277460041, 35.89897453256716])     # Marsa to Valletta\n",
    "network2.addTrip([14.430639056958517, 35.93221338788409], [14.475099351136112, 35.928946908622805])   # Naxxar to Pembroke\n",
    "network2.addTrip([14.349747452527506, 35.952589620545496], [14.488425821564382, 35.88613649037252])   # Mellieha to Hamrun\n",
    "network2.addTrip([14.452157373873439, 35.909293992478155], [14.439899447417208, 35.89882472107257])   # Iklin to Lija\n",
    "network2.addTrip([14.470057608789288, 35.919017557794774], [14.49148169541245, 35.922851227239875])   # Sqieqi to Paceville\n",
    "network2.addTrip([14.475099351136112, 35.928946908622805], [14.495355394293833, 35.90566064778522])   # Pembroke to Gzira\n",
    "network2.addTrip([14.396021566820055, 35.93589926856759], [14.407218690503381, 35.888194056331706])   # St Pauls bay to Mdina\n",
    "network2.addTrip([14.498520687544623, 35.913751455350116], [14.485762437559565, 35.90828089771133])   # Sliema to Kappara\n",
    "network2.addTrip([14.488811272099182, 35.91292262373294], [14.470057609526041, 35.84402708219966])    # Saint Julians to Mqabba\n",
    "network2.addTrip([14.513809277460041, 35.89897453256716], [14.396021566820055, 35.93589926856759])    # Valletta to St Pauls bay\n",
    "network2.addTrip([14.53180611175649, 35.89131402793584], [14.454060341546587, 35.83288089148569])     # Kalkara Qrendi\n",
    "network2.addTrip([14.534537227691992, 35.85846298643352], [14.54109190567531, 35.890133986928])       # Zejtun to Smart City\n",
    "network2.addTrip([14.469391291395608,35.87691014067125], [14.488425821564382, 35.88613649037252])     # Qormi to Hamrun\n",
    "network2.addTrip([14.483531114746006, 35.841025986602226], [14.480557233033442, 35.82193439301399])   # Kirkop to zurrieq\n",
    "network2.addTrip([14.554493402284638, 35.86057243985436], [14.43664734447984, 35.93252407235249])     # Marsaskala to naxxar\n",
    "network2.addTrip([14.432798599308622, 35.846482945229674], [14.480448112126183, 35.8215269171298])    # Siggiewi to Zurrieq\n",
    "network2.addTrip([14.503166650376741, 35.847493884379865], [14.538528892077835, 35.84081464096383])   # Gudja to Marsaxlokk\n",
    "network2.addTrip([14.502480004433215, 35.91098815347837], [14.351417332252417, 35.952782156260305])   # Sliema Mellieha\n",
    "network2.addTrip([14.480448112126183, 35.8215269171298], [14.432798599308622, 35.846482945229674])    # Zurrieq to siggiewi\n",
    "network2.addTrip([14.475443339054953, 35.90792935616374], [14.509775612551161, 35.88248114168623])    # San Gwann to paola\n",
    "network2.addTrip([14.430381563595416, 35.84661492276736], [14.420425204281518, 35.89050351825068])    # Siggiewi to Attard\n",
    "network2.addTrip([14.349747452527506, 35.952589620545496], [14.510671636760655, 35.88200443585789])   # Mellieha to Paola\n",
    "network2.addTrip([14.505998399035033, 35.85600676106393], [14.49243715100403, 35.87374386499355])     # Santa Lucija to Marsa\n",
    "network2.addTrip([14.429694917902895, 35.91775645709981], [14.457761551486044, 35.90976230777559])    # Mosta to Iklin\n",
    "network2.addTrip([14.411584641554525, 35.948404792667816], [14.3615453529338, 35.91866009299031])     # Buggibba to Mgarr\n",
    "network2.addTrip([14.351417332252417, 35.952782156260305], [14.3615453529338, 35.91866009299031])     # Mellieha to Mgarr\n",
    "#network2.addTrip([14.475700165922293, 35.890016773865945], [14.486257340022377, 35.895857515103536])  # Santa Venera to Msida"
   ]
  },
  {
   "cell_type": "code",
   "execution_count": 14,
   "metadata": {},
   "outputs": [
    {
     "name": "stdout",
     "output_type": "stream",
     "text": [
      "Start solution:  [[0, 2, 3, 4, 5, 6, 7], [1, 8, 9, 10, 11, 12, 13]]  Cost:  131389.80000000002\n",
      "End solution:  [[0, 10, 11, 2, 8, 3, 9], [1, 6, 7, 12, 13, 4, 5]]  Cost:  4744.356517475297\n"
     ]
    }
   ],
   "source": [
    "solutions = initSolution(network)\n",
    "\n",
    "bestSolution, bestCost, counts = tabuSearch(network, 1000, 30, solutions, fitnessFuncComposite)\n",
    "print(\"Start solution: \", solutions, \" Cost: \", fitnessFuncDistance(solutions, network))\n",
    "print(\"End solution: \", bestSolution, \" Cost: \", bestCost)"
   ]
  },
  {
   "cell_type": "code",
   "execution_count": 15,
   "metadata": {},
   "outputs": [
    {
     "name": "stdout",
     "output_type": "stream",
     "text": [
      "End solution:  [[0, 2, 3, 4, 5, 10, 11], [1, 6, 8, 9, 12, 13, 7]]  Cost:  4939.730173945609\n"
     ]
    }
   ],
   "source": [
    "g = geneticAlgorithm(network, 100, fitnessFuncComposite)\n",
    "\n",
    "s, c, costs = g.geneticAlgorithm(1000)\n",
    "\n",
    "print(\"End solution: \", s, \" Cost: \", c)"
   ]
  },
  {
   "cell_type": "markdown",
   "metadata": {},
   "source": [
    "#### Changing tabu list size with a constant iterations"
   ]
  },
  {
   "cell_type": "code",
   "execution_count": 27,
   "metadata": {},
   "outputs": [],
   "source": [
    "def tabuTest1(graph, iterations, fitnessFuc):\n",
    "    solutions = initSolution(graph)\n",
    "    eps = []\n",
    "    for ep in range(1, iterations + 1):\n",
    "        eps.append(ep)\n",
    "\n",
    "    for s in range(20, 101, 20): #loop 5 times with values 20, 40, 60, 80, 100\n",
    "            bestSolution, bestCost, counts = tabuSearch(graph, iterations, s, solutions, fitnessFuc) # run tabu search\n",
    "            plt.plot(eps, counts, label=(\"Tabu Size: \" + str(s)))\n",
    "    \n",
    "    plt.ylim(min(counts)-(0.05*min(counts)), max(counts)+(0.05*max(counts))) # set the y lims to the min and max plus a bit\n",
    "    plt.ylabel('cost')\n",
    "    plt.xlabel('episodes')\n",
    "    plt.title('Change in cost over episodes')\n",
    "    plt.legend(loc=\"upper right\")"
   ]
  },
  {
   "cell_type": "code",
   "execution_count": 28,
   "metadata": {},
   "outputs": [
    {
     "name": "stdout",
     "output_type": "stream",
     "text": [
      "20\n",
      "40\n",
      "60\n",
      "80\n",
      "100\n"
     ]
    },
    {
     "data": {
      "image/png": "[encoded data removed]",
      "text/plain": [
       "<Figure size 432x288 with 1 Axes>"
      ]
     },
     "metadata": {
      "needs_background": "light"
     },
     "output_type": "display_data"
    }
   ],
   "source": [
    "iterations = 1000\n",
    "tabuTest1(network2, iterations, fitnessFuncDistance)"
   ]
  },
  {
   "cell_type": "markdown",
   "metadata": {},
   "source": [
    "#### Changing number of iterations with constant tabu size"
   ]
  },
  {
   "cell_type": "code",
   "execution_count": 19,
   "metadata": {},
   "outputs": [],
   "source": [
    "def tabuTest2(graph, tabuSize, fitnessFuc, solutions):\n",
    "    for loop in range(100, 1001, 100):\n",
    "        eps = []\n",
    "        bestSolution, bestCost, counts = tabuSearch(graph, loop, tabuSize, solutions, fitnessFuc)\n",
    "\n",
    "        for iter in range(0, loop):\n",
    "            eps.append(iter)\n",
    "\n",
    "        plt.plot(eps, counts, label=(\"Iterations: \" + str(loop)), alpha=0.5)\n",
    "    \n",
    "    plt.ylim(min(counts)-(0.05*min(counts)), max(counts)+(0.05*max(counts)))\n",
    "    plt.ylabel('cost')\n",
    "    plt.xlabel('episodes')\n",
    "    plt.title('Change in cost over episodes')\n",
    "    plt.legend(loc=\"upper right\")\n"
   ]
  },
  {
   "cell_type": "code",
   "execution_count": 20,
   "metadata": {},
   "outputs": [
    {
     "data": {
      "image/png": "[encoded data removed]",
      "text/plain": [
       "<Figure size 432x288 with 1 Axes>"
      ]
     },
     "metadata": {
      "needs_background": "light"
     },
     "output_type": "display_data"
    }
   ],
   "source": [
    "tabuSize = 50\n",
    "sol = initSolution(network2)\n",
    "tabuTest2(network2, tabuSize, fitnessFuncDistance, sol)"
   ]
  },
  {
   "cell_type": "markdown",
   "metadata": {},
   "source": [
    "#### Changing population size, with constant iterations"
   ]
  },
  {
   "cell_type": "code",
   "execution_count": 29,
   "metadata": {},
   "outputs": [],
   "source": [
    "def geneticTest1(graph, iterations, fitnessFuc):\n",
    "    eps = []\n",
    "    ymax = 0\n",
    "    ymin = 1000000000\n",
    "\n",
    "    for ep in range(1, iterations + 1):\n",
    "        eps.append(ep)\n",
    "\n",
    "    for s in range(20, 201, 20):\n",
    "        g = geneticAlgorithm(graph, s, fitnessFuc)\n",
    "        bestSolution, bestCost, counts = g.geneticAlgorithm(iterations)\n",
    "        plt.plot(eps, counts, label=(\"Population Size: \" + str(s)), alpha=0.8)\n",
    "    \n",
    "        if(min(counts) < ymin): ymin = min(counts)\n",
    "        if(max(counts) > ymax): ymax = max(counts)\n",
    "    \n",
    "    plt.ylim(ymin-(0.05*ymin), ymax+(0.05*ymax))\n",
    "    plt.ylabel('cost')\n",
    "    plt.xlabel('episodes')\n",
    "    plt.title('Change in cost over episodes')\n",
    "    plt.legend(loc=\"center left\", bbox_to_anchor=(1, 0.5))\n",
    "    "
   ]
  },
  {
   "cell_type": "code",
   "execution_count": 30,
   "metadata": {},
   "outputs": [
    {
     "data": {
      "image/png": "[encoded data removed]",
      "text/plain": [
       "<Figure size 432x288 with 1 Axes>"
      ]
     },
     "metadata": {
      "needs_background": "light"
     },
     "output_type": "display_data"
    }
   ],
   "source": [
    "iterations = 1500\n",
    "geneticTest1(network2, iterations, fitnessFuncDistance)  "
   ]
  },
  {
   "cell_type": "markdown",
   "metadata": {},
   "source": [
    "#### Changing number of iterations, with constant population size"
   ]
  },
  {
   "cell_type": "code",
   "execution_count": 79,
   "metadata": {},
   "outputs": [],
   "source": [
    "def geneticTest2(graph, population, fitnessFuc):\n",
    "    g = geneticAlgorithm(graph, population, fitnessFuc)\n",
    "    ymax = 0\n",
    "    ymin = 1000000000\n",
    "    for loop in range(100, 501, 100):\n",
    "        eps = []\n",
    "        bestSolution, bestCost, counts = g.geneticAlgorithm(loop)\n",
    "\n",
    "        for iter in range(0, loop):\n",
    "            eps.append(iter)\n",
    "\n",
    "        plt.plot(eps, counts, label=(\"Iterations: \" + str(loop)))\n",
    "\n",
    "        if(min(counts) < ymin): ymin = min(counts)\n",
    "        if(max(counts) > ymax): ymax = max(counts)\n",
    "    \n",
    "    plt.ylim(ymin-(0.05*ymin), ymax+(0.05*ymax))\n",
    "    plt.ylabel('cost')\n",
    "    plt.xlabel('episodes')\n",
    "    plt.title('Change in cost over episodes')\n",
    "    plt.legend(loc=\"center left\", bbox_to_anchor=(1, 0.5))"
   ]
  },
  {
   "cell_type": "code",
   "execution_count": 80,
   "metadata": {},
   "outputs": [
    {
     "data": {
      "image/png": "[encoded data removed]",
      "text/plain": [
       "<Figure size 432x288 with 1 Axes>"
      ]
     },
     "metadata": {
      "needs_background": "light"
     },
     "output_type": "display_data"
    }
   ],
   "source": [
    "popSize = 100\n",
    "geneticTest2(network2, popSize, fitnessFuncDistance)  "
   ]
  },
  {
   "cell_type": "markdown",
   "metadata": {},
   "source": [
    "#### How best solution changes with different fit functions"
   ]
  },
  {
   "cell_type": "code",
   "execution_count": 24,
   "metadata": {},
   "outputs": [
    {
     "name": "stdout",
     "output_type": "stream",
     "text": [
      "Tabu Search\n",
      "\n",
      "Distance fitness function\n",
      "Start solution:  [[0, 2, 3, 4, 5, 6, 7], [1, 8, 9, 10, 11, 12, 13]]  Cost:  131389.80000000002\n",
      "End solution:  [[0, 10, 11, 2, 8, 3, 9], [1, 6, 7, 12, 13, 4, 5]]  Cost:  65331.0\n",
      "\n",
      "Wait time fitness function\n",
      "Start solution:  [[0, 2, 3, 4, 5, 6, 7], [1, 8, 9, 10, 11, 12, 13]]  Cost:  7637.658209163329\n",
      "End solution:  [[0, 10, 11, 2, 8, 3, 9], [1, 6, 7, 12, 13, 4, 5]]  Cost:  4624.113034950595\n",
      "\n",
      "Composite function\n",
      "Start solution:  [[0, 2, 3, 4, 5, 6, 7], [1, 8, 9, 10, 11, 12, 13]]  Cost:  8384.829104581664\n",
      "End solution:  [[0, 10, 11, 2, 8, 3, 9], [1, 6, 7, 12, 13, 4, 5]]  Cost:  4744.356517475297\n"
     ]
    }
   ],
   "source": [
    "solutions = initSolution(network)\n",
    "print(\"Tabu Search\\n\")\n",
    "\n",
    "print(\"Distance fitness function\")\n",
    "bestSolution, bestCost, counts = tabuSearch(network, 100, 30, solutions, fitnessFuncDistance)\n",
    "print(\"Start solution: \", solutions, \" Cost: \", fitnessFuncDistance(solutions, network))\n",
    "print(\"End solution: \", bestSolution, \" Cost: \", bestCost)\n",
    "\n",
    "print()\n",
    "\n",
    "print(\"Wait time fitness function\")\n",
    "bestSolution, bestCost, counts = tabuSearch(network, 100, 30, solutions, fitnessFuncDuration)\n",
    "print(\"Start solution: \", solutions, \" Cost: \", fitnessFuncDuration(solutions, network))\n",
    "print(\"End solution: \", bestSolution, \" Cost: \", bestCost)\n",
    "\n",
    "print()\n",
    "\n",
    "print(\"Composite function\")\n",
    "bestSolution, bestCost, counts = tabuSearch(network, 100, 30, solutions, fitnessFuncComposite)\n",
    "print(\"Start solution: \", solutions, \" Cost: \", fitnessFuncComposite(solutions, network))\n",
    "print(\"End solution: \", bestSolution, \" Cost: \", bestCost)\n",
    "\n"
   ]
  },
  {
   "cell_type": "code",
   "execution_count": 25,
   "metadata": {},
   "outputs": [
    {
     "name": "stdout",
     "output_type": "stream",
     "text": [
      "Genetic Algorithm\n",
      "\n",
      "Distance fitness function\n",
      "End solution:  [[0, 2, 3, 4, 5, 10, 11], [1, 6, 8, 9, 12, 13, 7]]  Cost:  73127.4\n",
      "\n",
      "Wait time fitness function\n",
      "End solution:  [[0, 2, 3, 4, 5, 10, 11], [1, 6, 8, 9, 12, 13, 7]]  Cost:  4752.060347891218\n",
      "\n",
      "Composite function\n",
      "End solution:  [[0, 2, 3, 4, 5, 10, 11], [1, 6, 8, 9, 12, 7, 13]]  Cost:  4939.730173945609\n"
     ]
    }
   ],
   "source": [
    "print(\"Genetic Algorithm\\n\")\n",
    "\n",
    "\n",
    "print(\"Distance fitness function\")\n",
    "g = geneticAlgorithm(network, 100, fitnessFuncDistance)\n",
    "s, c, costs = g.geneticAlgorithm(1000)\n",
    "print(\"End solution: \", s, \" Cost: \", c)\n",
    "\n",
    "print()\n",
    "\n",
    "print(\"Wait time fitness function\")\n",
    "g = geneticAlgorithm(network, 100, fitnessFuncDuration)\n",
    "s, c, costs = g.geneticAlgorithm(1000)\n",
    "print(\"End solution: \", s, \" Cost: \", c)\n",
    "\n",
    "print()\n",
    "\n",
    "print(\"Composite function\")\n",
    "g = geneticAlgorithm(network, 100, fitnessFuncComposite)\n",
    "s, c, costs = g.geneticAlgorithm(1000)\n",
    "print(\"End solution: \", s, \" Cost: \", c)"
   ]
  },
  {
   "cell_type": "markdown",
   "metadata": {},
   "source": [
    "### Optimization genetic algorithm"
   ]
  },
  {
   "cell_type": "code",
   "execution_count": 26,
   "metadata": {},
   "outputs": [],
   "source": [
    "class optimizationGeneticAlgorithm:\n",
    "    def __init__(self, graph, popsize):\n",
    "        self.distWeight = 0.5 # current weight for distance\n",
    "        self.durWeight = 0.5 # current weight for duration\n",
    "        self.GlobalDistWeight = 0.5 # best weight for distance\n",
    "        self.GlobalDurWeight = 0.5 # best weight for duration\n",
    "        self.bestTime = math.inf # set to infinity \n",
    "        self.population = [] # current population\n",
    "        self.populationFitness = [] \n",
    "        self.normalizePopFitness = []\n",
    "        self.network = graph # the set of trips to be worked on\n",
    "\n",
    "        self.initPopulation(popsize)\n",
    "    \n",
    "    def initPopulation(self, popsize):\n",
    "        for x in range(0, popsize):\n",
    "            rand = random.random()\n",
    "            self.population.append([rand,1-rand])\n",
    "    \n",
    "    def testFitnessFunction(self, solutions, net):\n",
    "        value = 0\n",
    "        for solution in solutions:\n",
    "            for n in range(1, len(solution)):\n",
    "                n1 = solution[n]\n",
    "                n2 = solution[n-1]\n",
    "                value += net.getEdgeFromEdgeNodes(n2, n1).duration # adds up the weight of all the edges in the path\n",
    "\n",
    "        return ((value*self.distWeight) + (fitnessFuncDuration(solutions, self.network)*self.durWeight))\n",
    "    \n",
    "    def calcFitness(self, optTime, solution):\n",
    "        avWaitTime = 0\n",
    "        numOfStartPoints = 0\n",
    "        for sol in solution:\n",
    "            curTime = 0\n",
    "            for x in range(1, len(sol)):\n",
    "                curTime += self.network.getEdgeFromEdgeNodes(sol[x-1], sol[x]).duration\n",
    "                if(self.network.getNodeFromId(x).type == 1):\n",
    "                    numOfStartPoints += 1\n",
    "                    avWaitTime += curTime\n",
    "\n",
    "        avWaitTime = avWaitTime/numOfStartPoints\n",
    "        return optTime - avWaitTime\n",
    "    \n",
    "    def normFit(self):\n",
    "        self.normalizePopFitness = []\n",
    "        total = 0\n",
    "        for i in range(0, len(self.population)):\n",
    "            total += self.populationFitness[i]\n",
    "\n",
    "        for i in range(0, len(self.population)):\n",
    "            self.normalizePopFitness.append(self.populationFitness[i]/total)\n",
    "    \n",
    "    def pickSolution(self):\n",
    "        index = 0\n",
    "        r = random.uniform(0, 1)\n",
    "        while r > 0:\n",
    "            r = r - self.normalizePopFitness[index]\n",
    "            index += 1\n",
    "        \n",
    "        return self.population[index-1]\n",
    "    \n",
    "\n",
    "    \n",
    "    def mutateSolution(self, sol):\n",
    "        change = random.uniform(0,0.05)\n",
    "        counter = 0\n",
    "        while((sol[0]+change > 1 or sol[1]-change < 0)):\n",
    "            change = random.uniform(0,0.05)\n",
    "            counter += 1\n",
    "            if(counter == 30): \n",
    "                sol = self.pickSolution()\n",
    "                counter = 0\n",
    "        \n",
    "        return [sol[0]+change, sol[1]-change]\n",
    "    \n",
    "    def optimize(self, iter, optTime):\n",
    "        for it in range(0, iter):\n",
    "            counter = 0\n",
    "            for pop in self.population: # checking current population \n",
    "                self.distWeight, self.durWeight = pop[0], pop[1]\n",
    "                testNet = geneticAlgorithm(self.network, 10, self.testFitnessFunction)\n",
    "                solution, cost, change = testNet.geneticAlgorithm(100)\n",
    "                self.populationFitness.append(self.calcFitness(optTime, solution))\n",
    "\n",
    "                if abs(self.populationFitness[counter]) < abs(self.bestTime): # check fro best time\n",
    "                    self.bestTime = self.populationFitness[counter]\n",
    "                    self.GlobalDistWeight = self.population[counter][0]\n",
    "                    self.GlobalDurWeight = self.population[counter][1]\n",
    "                \n",
    "                counter += 1\n",
    "            \n",
    "            self.normFit() # normalize new population\n",
    "            \n",
    "            newPopultion = []\n",
    "            for x in range(0, len(self.population)): # create next generation \n",
    "                newPopultion.append(self.mutateSolution(self.pickSolution()))\n",
    "            self.population = newPopultion\n",
    "            self.populationFitness = []\n",
    "            \n",
    "        \n",
    "        return self.GlobalDistWeight, self.GlobalDurWeight, self.bestTime"
   ]
  },
  {
   "cell_type": "code",
   "execution_count": 29,
   "metadata": {},
   "outputs": [
    {
     "name": "stdout",
     "output_type": "stream",
     "text": [
      "0\n",
      "1\n",
      "2\n",
      "3\n",
      "4\n",
      "5\n",
      "6\n",
      "7\n",
      "8\n",
      "9\n",
      "10\n",
      "11\n",
      "12\n",
      "13\n",
      "14\n",
      "15\n",
      "16\n",
      "17\n",
      "18\n",
      "19\n",
      "20\n",
      "21\n",
      "22\n",
      "23\n",
      "24\n",
      "25\n",
      "26\n",
      "27\n",
      "28\n",
      "29\n"
     ]
    }
   ],
   "source": [
    "test = optimizationGeneticAlgorithm(network, 100)\n",
    "\n",
    "distWeight, DurWeight, bestTime = test.optimize(30, 2000)"
   ]
  },
  {
   "cell_type": "code",
   "execution_count": 31,
   "metadata": {},
   "outputs": [
    {
     "name": "stdout",
     "output_type": "stream",
     "text": [
      "Duration Weight:  0.35618624580595337\n",
      "Wait time Weight:  0.6438137541940466\n",
      "Delta Value:  2.9166666666667425\n"
     ]
    }
   ],
   "source": [
    "print(\"Duration Weight: \", distWeight)\n",
    "print(\"Wait time Weight: \", DurWeight)\n",
    "print(\"Delta Value: \", bestTime)"
   ]
  }
 ],
 "metadata": {
  "interpreter": {
   "hash": "a2a44c1f9c79ffc527d0d9b38d320b006bac68ea2cce737bfaaa463c76796e8d"
  },
  "kernelspec": {
   "display_name": "Python 3.10.4 64-bit",
   "language": "python",
   "name": "python3"
  },
  "language_info": {
   "codemirror_mode": {
    "name": "ipython",
    "version": 3
   },
   "file_extension": ".py",
   "mimetype": "text/x-python",
   "name": "python",
   "nbconvert_exporter": "python",
   "pygments_lexer": "ipython3",
   "version": "3.10.4"
  },
  "orig_nbformat": 4
 },
 "nbformat": 4,
 "nbformat_minor": 2
}
