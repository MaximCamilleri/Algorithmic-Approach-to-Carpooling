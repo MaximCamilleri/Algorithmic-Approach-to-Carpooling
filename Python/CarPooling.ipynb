{
 "cells": [
  {
   "cell_type": "markdown",
   "metadata": {},
   "source": [
    "## Car Pooling Algorithm\n",
    "\n",
    "\n"
   ]
  },
  {
   "cell_type": "code",
   "execution_count": 2,
   "metadata": {},
   "outputs": [],
   "source": [
    "from pandas import reset_option\n",
    "import random\n",
    "import requests"
   ]
  },
  {
   "cell_type": "markdown",
   "metadata": {},
   "source": [
    "### Graph"
   ]
  },
  {
   "cell_type": "code",
   "execution_count": 3,
   "metadata": {},
   "outputs": [],
   "source": [
    "class node:\n",
    "    def __init__(self, id, type, flag, lat, long):\n",
    "        self.id = id\n",
    "        self.type = type # 0: car, 1: start, 2:end\n",
    "        self.isAccessible = flag\n",
    "        self.lat = lat\n",
    "        self.long = long"
   ]
  },
  {
   "cell_type": "code",
   "execution_count": 4,
   "metadata": {},
   "outputs": [],
   "source": [
    "class edge:\n",
    "    def __init__(self, id, startNodeId, endNodeId, weight):\n",
    "        self.id = id\n",
    "        self.startNodeId = startNodeId\n",
    "        self.endNodeId = endNodeId\n",
    "        self.weight = weight"
   ]
  },
  {
   "cell_type": "code",
   "execution_count": 5,
   "metadata": {},
   "outputs": [],
   "source": [
    "class graph:\n",
    "    def __init__(self):\n",
    "        self.adjList = [[]]\n",
    "        self.nodes = []\n",
    "        self.nodeCounter = 0\n",
    "        self.edgeCounter = 0\n",
    "    \n",
    "    def getNodeFromId(self, nodeId):\n",
    "        for n in self.nodes:\n",
    "            if n.id == nodeId:\n",
    "                return n\n",
    "    \n",
    "    def getEdgeFromEdgeNodes(self, node1, node2):\n",
    "        for e in self.adjList[node1]:\n",
    "            if e.endNodeId == node2:\n",
    "                return e\n",
    "        return -1\n",
    "    \n",
    "    def addNode(self, type, flag, lat, long):\n",
    "        self.nodes.append(node(self.nodeCounter, type, flag, lat, long))\n",
    "        self.nodeCounter += 1\n",
    "        self.adjList.append([])\n",
    "    \n",
    "    def addEdge(self, startNode, endNode, weight):\n",
    "        self.adjList[startNode].append(edge(self.edgeCounter, startNode, endNode, weight))\n",
    "        self.edgeCounter += 1\n",
    "    \n",
    "    def calcEdgeWeight(self, startNode, endNode):\n",
    "        s = self.getNodeFromId(startNode)\n",
    "        e = self.getNodeFromId(endNode)\n",
    "\n",
    "        r = requests.get('http://127.0.0.1:5000/route/v1/driving/'+ str(s.long) +','+ str(s.lat) +';'+ str(e.long) +','+ str(e.lat) +'?steps=false')\n",
    "        data = r.json()\n",
    "\n",
    "        return data['routes'][0]['distance']\n",
    "    \n",
    "    def addCar(self, loc):\n",
    "        self.addNode(0, False, loc[1], loc[0])\n",
    "\n",
    "        for node in self.nodes:\n",
    "            if node.type == 1:\n",
    "                self.addEdge(self.nodeCounter-1, node.id, self.calcEdgeWeight(self.nodeCounter-1, node.id))\n",
    "\n",
    "    def addTrip(self, start, end):\n",
    "        self.addNode(1, True, start[1], start[0]) # Check the correct order for lat and long with OSRM\n",
    "        self.addNode(2, False, end[1], end[0])\n",
    "\n",
    "        for node in self.nodes:\n",
    "            if node.id != self.nodeCounter-1 and node.id != self.nodeCounter-2: # add an edge from every node to the new start and end nodes \n",
    "                self.addEdge(node.id, self.nodeCounter-2, self.calcEdgeWeight(node.id, self.nodeCounter-2))\n",
    "                if node.type != 0:\n",
    "                    self.addEdge(node.id, self.nodeCounter-1, self.calcEdgeWeight(node.id, self.nodeCounter-1))\n",
    "\n",
    "            if node.type != 0 and node.id != self.nodeCounter-2: # add an edge from the new start node to all the other start and end nodes\n",
    "                self.addEdge(self.nodeCounter-2, node.id, self.calcEdgeWeight(self.nodeCounter-2, node.id))\n",
    "\n",
    "            if node.type != 0 and node.id != self.nodeCounter-1 and node.id != self.nodeCounter-2: # add an edge from the new end node to all the other end and start nodes\n",
    "                self.addEdge(self.nodeCounter-1, node.id, self.calcEdgeWeight(self.nodeCounter-1, node.id))\n",
    "    \n",
    "    # Functions for testing \n",
    "\n",
    "    def printAdjList(self):\n",
    "        for x in range(0, len(self.adjList)):\n",
    "            print(x, \": \", end =\" \")\n",
    "            for y in self.adjList[x]:\n",
    "                print(y.endNodeId, end =\" \")\n",
    "            print(\"\")"
   ]
  },
  {
   "cell_type": "markdown",
   "metadata": {},
   "source": [
    "### OSRM"
   ]
  },
  {
   "cell_type": "code",
   "execution_count": null,
   "metadata": {},
   "outputs": [],
   "source": [
    "pickupNetwork = graph()\n",
    "# enter coords as long, lat\n",
    "pickupNetwork.addCar([14.513809277460041, 35.89897453256716]) # valletta\n",
    "\n",
    "pickupNetwork.addTrip([14.423235598020154, 35.91419450996914], [14.407218690503381, 35.888194056331706]) # Mosta to imdina\n",
    "pickupNetwork.addTrip([14.49291350433241, 35.87369410066685], [14.513809277460041, 35.89897453256716]) # Marsa to Valletta\n",
    "pickupNetwork.addTrip([14.349747452527506, 35.952589620545496], [14.488425821564382, 35.88613649037252])  # Mellieha to Hamrun\n"
   ]
  },
  {
   "cell_type": "markdown",
   "metadata": {},
   "source": [
    "### Tabu Search"
   ]
  },
  {
   "cell_type": "code",
   "execution_count": null,
   "metadata": {},
   "outputs": [],
   "source": [
    "def fitnessFunc(solution, graph):\n",
    "    value = 0\n",
    "    for n in range(1, len(solution)):\n",
    "        n1 = solution[n]\n",
    "        n2 = solution[n-1]\n",
    "        value += graph.getEdgeFromEdgeNodes(n2, n1).weight\n",
    "    \n",
    "    return value"
   ]
  },
  {
   "cell_type": "markdown",
   "metadata": {},
   "source": [
    "creating a random solution "
   ]
  },
  {
   "cell_type": "code",
   "execution_count": null,
   "metadata": {},
   "outputs": [],
   "source": [
    "def initSolution(graph):\n",
    "    solution = []\n",
    "    visited = [False] * len(graph.nodes)\n",
    "\n",
    "    for n in graph.nodes:\n",
    "        if n.type == 0:\n",
    "            solution.append(n.id)\n",
    "            visited[n.id] = True\n",
    "    \n",
    "    while(visited.count(visited[0]) != len(visited)):\n",
    "        avalabile = False\n",
    "        n = random.choice(graph.adjList[solution[-1]]).endNodeId\n",
    "        if graph.getNodeFromId(n).type == 2:\n",
    "            start = n -1\n",
    "            for x in solution:\n",
    "                if x == start:\n",
    "                    avalabile = True\n",
    "                    break\n",
    "        else:\n",
    "            avalabile = True\n",
    "\n",
    "        if visited[n] == False and avalabile:\n",
    "            visited[n] = True\n",
    "            solution.append(n)\n",
    "\n",
    "    return solution\n",
    "    "
   ]
  },
  {
   "cell_type": "markdown",
   "metadata": {},
   "source": [
    "neighborhood function"
   ]
  },
  {
   "cell_type": "code",
   "execution_count": null,
   "metadata": {},
   "outputs": [],
   "source": [
    "def neighborhood(solution, graph):\n",
    "    neighborhood = []\n",
    "\n",
    "    for x in range(1, len(solution)):\n",
    "        for y in range(x + 1, len(solution)):\n",
    "            newSolution = solution.copy()\n",
    "            newSolution[x], newSolution[y] = newSolution[y], newSolution[x]\n",
    "            if checkSolution(newSolution, graph) == True:\n",
    "                neighborhood.append(newSolution)\n",
    "    \n",
    "    return neighborhood\n"
   ]
  },
  {
   "cell_type": "code",
   "execution_count": null,
   "metadata": {},
   "outputs": [],
   "source": [
    "def checkSolution(solution, graph):\n",
    "    correct = True\n",
    "    for n in range(1, len(solution)):\n",
    "        n1 = solution[n]\n",
    "        n2 = solution[n-1]\n",
    "        edge = graph.getEdgeFromEdgeNodes(n2, n1)\n",
    "        #print(n2, n1, \": \", edge)\n",
    "\n",
    "        if edge == -1:\n",
    "            return False\n",
    "\n",
    "        if graph.getNodeFromId(n1).type == 2:\n",
    "            start = n1 -1\n",
    "            for x in solution[:n]:\n",
    "                if x == start:\n",
    "                    correct = True\n",
    "                    break\n",
    "                else:\n",
    "                    correct = False\n",
    "\n",
    "        if not correct:\n",
    "            return False\n",
    "\n",
    "    return True\n"
   ]
  },
  {
   "cell_type": "markdown",
   "metadata": {},
   "source": [
    "### Tabu Search"
   ]
  },
  {
   "cell_type": "code",
   "execution_count": null,
   "metadata": {},
   "outputs": [],
   "source": [
    "def tabuSearch(graph, iterations, tabuSize, s):\n",
    "    #bestSolution = initSolution(graph)\n",
    "    bestSolution = s\n",
    "    solution = bestSolution\n",
    "    tabuList = list()\n",
    "    bestCost = fitnessFunc(bestSolution, graph)\n",
    "    counter = 1\n",
    "\n",
    "    while counter <= iterations:\n",
    "        neighbours = neighborhood(solution, graph)\n",
    "        found = False # indicates we found a set of different nodes that are not in the tabu list \n",
    "        currentBestSolutionIndex = 0\n",
    "        currentBestSolution = neighbours[currentBestSolutionIndex]\n",
    "        #print(neighbours)\n",
    "\n",
    "        while not found and currentBestSolutionIndex < len(neighbours) - 1:\n",
    "            i = 0\n",
    "            while i < len(currentBestSolution):\n",
    "                if currentBestSolution[i] != solution[i]:\n",
    "                    firstNode = currentBestSolution[i]\n",
    "                    secondNode = solution[i]\n",
    "                    break\n",
    "                i = i + 1\n",
    "\n",
    "            if [firstNode, secondNode] not in tabuList and [secondNode, firstNode] not in tabuList:\n",
    "                tabuList.append([firstNode, secondNode]) # add the set to the tabuList\n",
    "                found = True \n",
    "\n",
    "                solution = currentBestSolution\n",
    "                cost = fitnessFunc(currentBestSolution, graph)\n",
    "\n",
    "                if cost < bestCost:\n",
    "                    bestCost = cost\n",
    "                    bestSolution = solution\n",
    "            \n",
    "            else:\n",
    "                currentBestSolutionIndex += 1\n",
    "                currentBestSolution = neighbours[currentBestSolutionIndex]\n",
    "        \n",
    "        if len(tabuList) >= tabuSize:\n",
    "            tabuList.pop(0) # removes the oldest element in the list\n",
    "        \n",
    "        #print(counter)\n",
    "\n",
    "        counter = counter + 1\n",
    "    \n",
    "    return bestSolution, bestCost\n",
    "\n"
   ]
  },
  {
   "cell_type": "code",
   "execution_count": null,
   "metadata": {},
   "outputs": [],
   "source": [
    "s = initSolution(pickupNetwork)"
   ]
  },
  {
   "cell_type": "code",
   "execution_count": null,
   "metadata": {},
   "outputs": [
    {
     "name": "stdout",
     "output_type": "stream",
     "text": [
      "[0, 5, 1, 3, 6, 2, 4]\n"
     ]
    }
   ],
   "source": [
    "print(s)"
   ]
  },
  {
   "cell_type": "code",
   "execution_count": null,
   "metadata": {},
   "outputs": [],
   "source": [
    "bestSolution, bestCost = tabuSearch(pickupNetwork, 500000, 7, s)"
   ]
  },
  {
   "cell_type": "code",
   "execution_count": null,
   "metadata": {},
   "outputs": [
    {
     "name": "stdout",
     "output_type": "stream",
     "text": [
      "Start solution:  [0, 5, 1, 3, 6, 2, 4]  Cost:  68505.09999999999\n",
      "End solution:  [0, 5, 1, 2, 3, 6, 4]  Cost:  53348.399999999994\n",
      "0   0\n",
      "5   1\n",
      "1   1\n",
      "2   2\n",
      "3   1\n",
      "6   2\n",
      "4   2\n"
     ]
    }
   ],
   "source": [
    "print(\"Start solution: \", s, \" Cost: \", fitnessFunc(s, pickupNetwork))\n",
    "print(\"End solution: \", bestSolution, \" Cost: \", bestCost)\n",
    "\n",
    "for x in bestSolution:\n",
    "    print(x, \" \", pickupNetwork.getNodeFromId(x).type)"
   ]
  },
  {
   "cell_type": "markdown",
   "metadata": {},
   "source": [
    "### using multiple cars"
   ]
  },
  {
   "cell_type": "code",
   "execution_count": null,
   "metadata": {},
   "outputs": [],
   "source": []
  },
  {
   "cell_type": "markdown",
   "metadata": {},
   "source": [
    "### testing area "
   ]
  },
  {
   "cell_type": "code",
   "execution_count": 8,
   "metadata": {},
   "outputs": [
    {
     "name": "stdout",
     "output_type": "stream",
     "text": [
      "{'code': 'Ok', 'routes': [{'geometry': 'ioezE__`wAi@jEj@rGwKfMe@fC`ClG`XlLtCtChFfL~UxMjFbAbCwAxOpCn[eG`O]pQxC`Ce@bBrBtMxE', 'legs': [{'steps': [], 'distance': 4153.7, 'duration': 312.7, 'summary': '', 'weight': 312.7}], 'distance': 4153.7, 'duration': 312.7, 'weight_name': 'routability', 'weight': 312.7}], 'waypoints': [{'hint': 'SegAgGHoAIAAAAAAbAAAAAAAAAAfAAAAAAAAAN0ClkIAAAAA7aepQQAAAABsAAAAAAAAAB8AAAAgAAAAABTcADQCJALEFNwA0wEkAgAAfxFEWslf', 'distance': 20.706096, 'name': 'Triq Sir Arthur Borton', 'location': [14.42304, 35.914292]}, {'hint': '7MIAgAzDAIAcAAAAXAAAAO0AAAB3AAAASikZQo_98UJuL51DgQkeQxwAAABcAAAA7QAAAHcAAAAgAAAAY9fbAPWbIwIz1tsAQpwjAgYAHwFEWslf', 'distance': 28.75223, 'name': 'Triq tal-Infetti', 'location': [14.407523, 35.888117]}]}\n"
     ]
    }
   ],
   "source": [
    "\n",
    "r = requests.get('http://127.0.0.1:5000/route/v1/driving/14.423235598020154,35.91419450996914;14.407218690503381,35.888194056331706?steps=false')\n",
    "\n",
    "data = r.json()\n",
    "\n",
    "print(data)"
   ]
  },
  {
   "cell_type": "code",
   "execution_count": 9,
   "metadata": {},
   "outputs": [
    {
     "name": "stdout",
     "output_type": "stream",
     "text": [
      "4153.7\n",
      "ioezE__`wAi@jEj@rGwKfMe@fC`ClG`XlLtCtChFfL~UxMjFbAbCwAxOpCn[eG`O]pQxC`Ce@bBrBtMxE\n"
     ]
    }
   ],
   "source": [
    "print(data['routes'][0]['distance'])\n",
    "print(data['routes'][0]['geometry'])"
   ]
  }
 ],
 "metadata": {
  "interpreter": {
   "hash": "916dbcbb3f70747c44a77c7bcd40155683ae19c65e1c03b4aa3499c5328201f1"
  },
  "kernelspec": {
   "display_name": "Python 3.8.10 64-bit",
   "language": "python",
   "name": "python3"
  },
  "language_info": {
   "codemirror_mode": {
    "name": "ipython",
    "version": 3
   },
   "file_extension": ".py",
   "mimetype": "text/x-python",
   "name": "python",
   "nbconvert_exporter": "python",
   "pygments_lexer": "ipython3",
   "version": "3.8.10"
  },
  "orig_nbformat": 4
 },
 "nbformat": 4,
 "nbformat_minor": 2
}
