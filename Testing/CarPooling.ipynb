{
 "cells": [
  {
   "cell_type": "markdown",
   "metadata": {},
   "source": [
    "## Car Pooling Algorithm\n",
    "\n",
    "\n"
   ]
  },
  {
   "cell_type": "code",
   "execution_count": 2,
   "metadata": {},
   "outputs": [],
   "source": [
    "from pandas import reset_option\n",
    "import matplotlib.pyplot as plt\n",
    "import random\n",
    "import requests\n",
    "import copy"
   ]
  },
  {
   "cell_type": "markdown",
   "metadata": {},
   "source": [
    "### Graph"
   ]
  },
  {
   "cell_type": "code",
   "execution_count": 3,
   "metadata": {},
   "outputs": [],
   "source": [
    "class node:\n",
    "    def __init__(self, id, type, flag, lat, long):\n",
    "        self.id = id\n",
    "        self.type = type # 0: car, 1: start, 2:end\n",
    "        self.isAccessible = flag\n",
    "        self.lat = lat\n",
    "        self.long = long"
   ]
  },
  {
   "cell_type": "code",
   "execution_count": 4,
   "metadata": {},
   "outputs": [],
   "source": [
    "class edge:\n",
    "    def __init__(self, id, startNodeId, endNodeId, weight, polyLine, duration):\n",
    "        self.id = id\n",
    "        self.startNodeId = startNodeId # start point of an edge\n",
    "        self.endNodeId = endNodeId # end point of an edge\n",
    "        self.weight = weight # distance between two points\n",
    "        self.polyLine = polyLine # google polyline encripted value for this path\n",
    "        self.duration = duration"
   ]
  },
  {
   "cell_type": "code",
   "execution_count": 9,
   "metadata": {},
   "outputs": [],
   "source": [
    "# Graph Class\n",
    "class graph:\n",
    "    def __init__(self):\n",
    "        self.adjList = [[]] # list of edges\n",
    "        self.nodes = [] # list of nodes\n",
    "        self.nodeCounter = 0 # points to the next free node id\n",
    "        self.edgeCounter = 0 # points to the next free edge id \n",
    "    \n",
    "    def getNodeFromId(self, nodeId):\n",
    "        for n in self.nodes:\n",
    "            if n.id == nodeId:\n",
    "                return n\n",
    "    \n",
    "    def getEdgeFromEdgeNodes(self, node1, node2):\n",
    "        for e in self.adjList[node1]: # loops over all the edges related to the start node\n",
    "            if e.endNodeId == node2: # if the edge is equal to the end node return it\n",
    "                return e\n",
    "        return -1 # -1 means there is no edge between the two entered nodes \n",
    "    \n",
    "    def addNode(self, type, flag, lat, long):\n",
    "        self.nodes.append(node(self.nodeCounter, type, flag, lat, long))\n",
    "        self.nodeCounter += 1\n",
    "        self.adjList.append([])\n",
    "    \n",
    "    def addEdge(self, startNode, endNode, weight, polyline, duration):\n",
    "        self.adjList[startNode].append(edge(self.edgeCounter, startNode, endNode, weight, polyline, duration))\n",
    "        self.edgeCounter += 1\n",
    "    \n",
    "    def calcEdgeWeight(self, startNode, endNode):\n",
    "        s = self.getNodeFromId(startNode) # getting the start and end nodes \n",
    "        e = self.getNodeFromId(endNode)\n",
    "\n",
    "        r = requests.get('http://127.0.0.1:5000/route/v1/driving/'+ str(s.long) +','+ str(s.lat) +';'+ str(e.long) +','+ str(e.lat) +'?steps=false') # makes a request using the pos of the start and end nodes\n",
    "        data = r.json() # converts the json data to a readable format\n",
    "\n",
    "        return data['routes'][0]['distance'], data['routes'][0]['geometry'], data['routes'][0]['duration'] # returns the distance to be used as the weight of an edge and the polyline\n",
    "    \n",
    "    def addCar(self, loc):\n",
    "        self.addNode(0, False, loc[1], loc[0]) # car always has a type value of 0\n",
    "\n",
    "        for node in self.nodes:\n",
    "            if node.type == 1: # add a connection from the new car to all the starting nodes \n",
    "                w, l = self.calcEdgeWeight(self.nodeCounter-1, node.id)\n",
    "                self.addEdge(self.nodeCounter-1, node.id, w, l)\n",
    "\n",
    "    def addTrip(self, start, end):\n",
    "        self.addNode(1, True, start[1], start[0]) # add the start node of a trip\n",
    "        self.addNode(2, False, end[1], end[0]) # add the end node of a trip\n",
    "\n",
    "        for node in self.nodes:\n",
    "            if node.id != self.nodeCounter-1 and node.id != self.nodeCounter-2: # add an edge from every node to the new start and end nodes \n",
    "                w, l, d = self.calcEdgeWeight(node.id, self.nodeCounter-2)\n",
    "                self.addEdge(node.id, self.nodeCounter-2, w, l, d)\n",
    "                if node.type != 0: # if not a car\n",
    "                    w, l, d = self.calcEdgeWeight(node.id, self.nodeCounter-1)\n",
    "                    self.addEdge(node.id, self.nodeCounter-1, w, l, d) # add an edge from every node to the new end node (execpt form cars)\n",
    "\n",
    "            if node.type != 0 and node.id != self.nodeCounter-2: # add an edge from the new start node to all the other start and end nodes\n",
    "                w, l, d = self.calcEdgeWeight(self.nodeCounter-2, node.id)\n",
    "                self.addEdge(self.nodeCounter-2, node.id, w, l, d)\n",
    "\n",
    "            if node.type != 0 and node.id != self.nodeCounter-1 and node.id != self.nodeCounter-2: # add an edge from the new end node to all the other end and start nodes\n",
    "                w, l, d = self.calcEdgeWeight(self.nodeCounter-1, node.id)\n",
    "                self.addEdge(self.nodeCounter-1, node.id, w, l, d)\n",
    "    \n",
    "    # Functions for testing \n",
    "\n",
    "    def printAdjList(self):\n",
    "        for x in range(0, len(self.adjList)):\n",
    "            print(x, \": \", end =\" \")\n",
    "            for y in self.adjList[x]:\n",
    "                print(y.endNodeId, end =\" \")\n",
    "            print(\"\")"
   ]
  },
  {
   "cell_type": "markdown",
   "metadata": {},
   "source": [
    "### OSRM"
   ]
  },
  {
   "cell_type": "code",
   "execution_count": 10,
   "metadata": {},
   "outputs": [],
   "source": [
    "pickupNetwork = graph()\n",
    "# enter coords as long, lat\n",
    "pickupNetwork.addCar([14.513809277460041, 35.89897453256716]) # valletta\n",
    "\n",
    "pickupNetwork.addTrip([14.423235598020154, 35.91419450996914], [14.407218690503381, 35.888194056331706]) # Mosta to imdina\n",
    "pickupNetwork.addTrip([14.49291350433241, 35.87369410066685], [14.513809277460041, 35.89897453256716]) # Marsa to Valletta\n",
    "pickupNetwork.addTrip([14.349747452527506, 35.952589620545496], [14.488425821564382, 35.88613649037252])  # Mellieha to Hamrun\n"
   ]
  },
  {
   "cell_type": "markdown",
   "metadata": {},
   "source": [
    "### Tabu Search"
   ]
  },
  {
   "cell_type": "code",
   "execution_count": 14,
   "metadata": {},
   "outputs": [],
   "source": [
    "def fitnessFunc(solution, graph):\n",
    "    value = 0\n",
    "    for n in range(1, len(solution)):\n",
    "        n1 = solution[n]\n",
    "        n2 = solution[n-1]\n",
    "        value += graph.getEdgeFromEdgeNodes(n2, n1).weight # adds up the weight of all the edges in the path\n",
    "    \n",
    "    return value"
   ]
  },
  {
   "cell_type": "markdown",
   "metadata": {},
   "source": [
    "creating a random solution "
   ]
  },
  {
   "cell_type": "code",
   "execution_count": 15,
   "metadata": {},
   "outputs": [],
   "source": [
    "def initSolution(graph): # used to randomly generate an solution \n",
    "    solution = []\n",
    "    visited = [False] * len(graph.nodes) # will indicate if a node has been visited yet\n",
    "\n",
    "    for n in graph.nodes:\n",
    "        if n.type == 0: # finds a car as the starting point\n",
    "            solution.append(n.id)\n",
    "            visited[n.id] = True\n",
    "    \n",
    "    while(visited.count(visited[0]) != len(visited)): # while the values in the visited list are not all equal\n",
    "        avalabile = False \n",
    "        n = random.choice(graph.adjList[solution[-1]]).endNodeId # picks a random node that can be reached form the current last node in the solution\n",
    "        if graph.getNodeFromId(n).type == 2: # if the node picked is a end point \n",
    "            start = n -1\n",
    "            for x in solution: # check if its start point is already in the list \n",
    "                if x == start:\n",
    "                    avalabile = True # if yes we can add the point to the solution \n",
    "                    break\n",
    "        else:\n",
    "            avalabile = True\n",
    "\n",
    "        if visited[n] == False and avalabile: # add the point to the solution \n",
    "            visited[n] = True\n",
    "            solution.append(n)\n",
    "\n",
    "    return solution"
   ]
  },
  {
   "cell_type": "markdown",
   "metadata": {},
   "source": [
    "neighborhood function"
   ]
  },
  {
   "cell_type": "code",
   "execution_count": 16,
   "metadata": {},
   "outputs": [],
   "source": [
    "def neighborhood(solution, graph): # returns all the possible swaps for a given solution \n",
    "    neighborhood = []\n",
    "\n",
    "    for x in range(1, len(solution)):\n",
    "        for y in range(x + 1, len(solution)):\n",
    "            newSolution = solution.copy()\n",
    "            newSolution[x], newSolution[y] = newSolution[y], newSolution[x] # swap 2 values \n",
    "            if checkSolution(newSolution, graph) == True: # check if swap is valid\n",
    "                neighborhood.append(newSolution) # if swap is good add it to the list \n",
    "    \n",
    "    return neighborhood\n"
   ]
  },
  {
   "cell_type": "code",
   "execution_count": 17,
   "metadata": {},
   "outputs": [],
   "source": [
    "def checkSolution(solution, graph):\n",
    "    correct = True\n",
    "    # loop over the whole solution and check if it is possible to get from one node to the next. If it is solution is valid\n",
    "    for n in range(1, len(solution)): \n",
    "        n1 = solution[n]\n",
    "        n2 = solution[n-1]\n",
    "        edge = graph.getEdgeFromEdgeNodes(n2, n1) # returns -1 if there is no edge\n",
    "\n",
    "        if edge == -1:\n",
    "            return False # the solution is not valid \n",
    "\n",
    "        if graph.getNodeFromId(n1).type == 2: # if the point is an end point \n",
    "            start = n1 -1\n",
    "            for x in solution[:n]: # check if its start point is in the list before it\n",
    "                if x == start:\n",
    "                    correct = True\n",
    "                    break\n",
    "                else:\n",
    "                    correct = False\n",
    "\n",
    "        if not correct:\n",
    "            return False\n",
    "\n",
    "    return True\n"
   ]
  },
  {
   "cell_type": "markdown",
   "metadata": {},
   "source": [
    "### Tabu Search"
   ]
  },
  {
   "cell_type": "code",
   "execution_count": 11,
   "metadata": {},
   "outputs": [],
   "source": [
    "def tabuSearch(graph, iterations, tabuSize, s):\n",
    "    bestSolution = s\n",
    "    solution = bestSolution\n",
    "    tabuList = list()\n",
    "    bestCost = fitnessFunc(bestSolution, graph)\n",
    "    counter = 1\n",
    "\n",
    "    while counter <= iterations:\n",
    "        neighbours = neighborhood(solution, graph)\n",
    "        found = False # indicates we found a set of different nodes that are not in the tabu list \n",
    "        currentBestSolutionIndex = 0\n",
    "        currentBestSolution = neighbours[currentBestSolutionIndex]\n",
    "\n",
    "        while not found and currentBestSolutionIndex < len(neighbours) - 1:\n",
    "            i = 0\n",
    "            while i < len(currentBestSolution):\n",
    "                if currentBestSolution[i] != solution[i]: # if the same node position is not equal \n",
    "                    firstNode = currentBestSolution[i]\n",
    "                    secondNode = solution[i]\n",
    "                    break\n",
    "                i = i + 1\n",
    "\n",
    "            if [firstNode, secondNode] not in tabuList and [secondNode, firstNode] not in tabuList: # check if the swap is in the tabu list or not \n",
    "                tabuList.append([firstNode, secondNode]) # add the set to the tabuList\n",
    "                found = True \n",
    "\n",
    "                solution = currentBestSolution\n",
    "                cost = fitnessFunc(currentBestSolution, graph)\n",
    "\n",
    "                if cost < bestCost: # checks if the new solution is better than the current best \n",
    "                    bestCost = cost\n",
    "                    bestSolution = solution\n",
    "            \n",
    "            else:\n",
    "                currentBestSolutionIndex += 1 # if nothing was found in with the current swap, go the the next one \n",
    "                currentBestSolution = neighbours[currentBestSolutionIndex]\n",
    "        \n",
    "        if len(tabuList) >= tabuSize:\n",
    "            tabuList.pop(0) # removes the oldest element in the list\n",
    "\n",
    "        counter = counter + 1\n",
    "    \n",
    "    return bestSolution, bestCost\n",
    "\n"
   ]
  },
  {
   "cell_type": "code",
   "execution_count": 12,
   "metadata": {},
   "outputs": [],
   "source": [
    "s = initSolution(pickupNetwork)"
   ]
  },
  {
   "cell_type": "code",
   "execution_count": 13,
   "metadata": {},
   "outputs": [
    {
     "name": "stdout",
     "output_type": "stream",
     "text": [
      "[0, 5, 1, 2, 6, 3, 4]\n"
     ]
    }
   ],
   "source": [
    "print(s)"
   ]
  },
  {
   "cell_type": "code",
   "execution_count": 14,
   "metadata": {},
   "outputs": [
    {
     "ename": "KeyboardInterrupt",
     "evalue": "",
     "output_type": "error",
     "traceback": [
      "\u001b[1;31m---------------------------------------------------------------------------\u001b[0m",
      "\u001b[1;31mKeyboardInterrupt\u001b[0m                         Traceback (most recent call last)",
      "\u001b[1;32md:\\University\\BSC AI 2.2\\ARI-2201 IAPT\\Car-Pooling-Algorithm\\Python\\CarPooling.ipynb Cell 20'\u001b[0m in \u001b[0;36m<cell line: 1>\u001b[1;34m()\u001b[0m\n\u001b[1;32m----> <a href='vscode-notebook-cell:/d%3A/University/BSC%20AI%202.2/ARI-2201%20IAPT/Car-Pooling-Algorithm/Python/CarPooling.ipynb#ch0000019?line=0'>1</a>\u001b[0m bestSolution, bestCost \u001b[39m=\u001b[39m tabuSearch(pickupNetwork, \u001b[39m500000\u001b[39;49m, \u001b[39m7\u001b[39;49m, s)\n",
      "\u001b[1;32md:\\University\\BSC AI 2.2\\ARI-2201 IAPT\\Car-Pooling-Algorithm\\Python\\CarPooling.ipynb Cell 17'\u001b[0m in \u001b[0;36mtabuSearch\u001b[1;34m(graph, iterations, tabuSize, s)\u001b[0m\n\u001b[0;32m      <a href='vscode-notebook-cell:/d%3A/University/BSC%20AI%202.2/ARI-2201%20IAPT/Car-Pooling-Algorithm/Python/CarPooling.ipynb#ch0000016?line=5'>6</a>\u001b[0m counter \u001b[39m=\u001b[39m \u001b[39m1\u001b[39m\n\u001b[0;32m      <a href='vscode-notebook-cell:/d%3A/University/BSC%20AI%202.2/ARI-2201%20IAPT/Car-Pooling-Algorithm/Python/CarPooling.ipynb#ch0000016?line=7'>8</a>\u001b[0m \u001b[39mwhile\u001b[39;00m counter \u001b[39m<\u001b[39m\u001b[39m=\u001b[39m iterations:\n\u001b[1;32m----> <a href='vscode-notebook-cell:/d%3A/University/BSC%20AI%202.2/ARI-2201%20IAPT/Car-Pooling-Algorithm/Python/CarPooling.ipynb#ch0000016?line=8'>9</a>\u001b[0m     neighbours \u001b[39m=\u001b[39m neighborhood(solution, graph)\n\u001b[0;32m     <a href='vscode-notebook-cell:/d%3A/University/BSC%20AI%202.2/ARI-2201%20IAPT/Car-Pooling-Algorithm/Python/CarPooling.ipynb#ch0000016?line=9'>10</a>\u001b[0m     found \u001b[39m=\u001b[39m \u001b[39mFalse\u001b[39;00m \u001b[39m# indicates we found a set of different nodes that are not in the tabu list \u001b[39;00m\n\u001b[0;32m     <a href='vscode-notebook-cell:/d%3A/University/BSC%20AI%202.2/ARI-2201%20IAPT/Car-Pooling-Algorithm/Python/CarPooling.ipynb#ch0000016?line=10'>11</a>\u001b[0m     currentBestSolutionIndex \u001b[39m=\u001b[39m \u001b[39m0\u001b[39m\n",
      "\u001b[1;31mKeyboardInterrupt\u001b[0m: "
     ]
    }
   ],
   "source": [
    "bestSolution, bestCost = tabuSearch(pickupNetwork, 500000, 7, s)"
   ]
  },
  {
   "cell_type": "code",
   "execution_count": null,
   "metadata": {},
   "outputs": [
    {
     "name": "stdout",
     "output_type": "stream",
     "text": [
      "Start solution:  [0, 3, 1, 2, 4, 5, 6]  Cost:  70807.1\n",
      "End solution:  [0, 3, 1, 5, 2, 6, 4]  Cost:  51375.899999999994\n"
     ]
    }
   ],
   "source": [
    "print(\"Start solution: \", s, \" Cost: \", fitnessFunc(s, pickupNetwork))\n",
    "print(\"End solution: \", bestSolution, \" Cost: \", bestCost)"
   ]
  },
  {
   "cell_type": "markdown",
   "metadata": {},
   "source": [
    "### using multiple cars"
   ]
  },
  {
   "cell_type": "code",
   "execution_count": 7,
   "metadata": {},
   "outputs": [],
   "source": [
    "pickupNetwork2 = graph()\n",
    "# enter coords as long, lat\n",
    "pickupNetwork2.addCar([14.513809277460041, 35.89897453256716]) # valletta\n",
    "pickupNetwork2.addCar([14.513809277460041, 35.89897453256716]) # valletta\n",
    "pickupNetwork2.addCar([14.513809277460041, 35.89897453256716]) # valletta\n",
    "\n",
    "pickupNetwork2.addTrip([14.423235598020154, 35.91419450996914], [14.407218690503381, 35.888194056331706]) # Mosta to mdina\n",
    "pickupNetwork2.addTrip([14.49291350433241, 35.87369410066685], [14.513809277460041, 35.89897453256716]) # Marsa to Valletta\n",
    "pickupNetwork2.addTrip([14.349747452527506, 35.952589620545496], [14.488425821564382, 35.88613649037252])  # Mellieha to Hamrun\n",
    "\n",
    "\n",
    "\n",
    "pickupNetwork2.addTrip([14.396021566820055, 35.93589926856759], [14.407218690503381, 35.888194056331706]) # st pauls bay to mdina\n",
    "pickupNetwork2.addTrip([14.513809277460041, 35.89897453256716], [14.396021566820055, 35.93589926856759]) # Valletta to st pauls bay\n",
    "pickupNetwork2.addTrip([14.469391291395608,35.87691014067125], [14.488425821564382, 35.88613649037252])  # qormi to Hamrun\n",
    "\n",
    "\n",
    "pickupNetwork2.addTrip([14.432798599308622, 35.846482945229674], [14.480448112126183, 35.8215269171298]) # siggiewi to zurrieq\n",
    "pickupNetwork2.addTrip([14.480448112126183, 35.8215269171298], [14.432798599308622, 35.846482945229674]) # zurrieq to siggiewi\n",
    "pickupNetwork2.addTrip([14.349747452527506, 35.952589620545496], [14.510671636760655, 35.88200443585789])  # Mellieha to paola\n",
    "\n",
    "# pickupNetwork2.addTrip([14.423235598020154, 35.91419450996914], [14.407218690503381, 35.888194056331706])\n",
    "# pickupNetwork2.addTrip([14.49291350433241, 35.87369410066685], [14.513809277460041, 35.89897453256716])\n",
    "# pickupNetwork2.addTrip([14.49291350433241, 35.87369410066685], [14.513809277460041, 35.89897453256716])\n",
    "\n",
    "\n"
   ]
  },
  {
   "cell_type": "code",
   "execution_count": 8,
   "metadata": {},
   "outputs": [],
   "source": [
    "carSize = 3\n",
    "def initSolution2(graph): # used to randomly generate a solution \n",
    "    solutions = []\n",
    "    visited = [False] * len(graph.nodes) # will indicate if a node has been visited yet\n",
    "    \n",
    "    nodePointer = 0\n",
    "\n",
    "\n",
    "    for n in graph.nodes:\n",
    "        solution = []\n",
    "        if n.type == 0: # finds a car as the starting point\n",
    "            solution.append(n.id)\n",
    "            visited[n.id] = True\n",
    "            s = 0\n",
    "            while s < carSize and s < (len(graph.nodes)/2)-1:\n",
    "                if graph.getNodeFromId(nodePointer).type != 0:\n",
    "                    solution.append(nodePointer)\n",
    "                    solution.append(nodePointer + 1)\n",
    "\n",
    "                    nodePointer += 2\n",
    "                    s += 1\n",
    "                else:\n",
    "                    nodePointer += 1\n",
    "\n",
    "            solutions.append(solution)\n",
    "\n",
    "    return solutions"
   ]
  },
  {
   "cell_type": "code",
   "execution_count": 9,
   "metadata": {},
   "outputs": [],
   "source": [
    "def initSolution3(graph): # used to randomly generate a solution \n",
    "    numOfCars = 0\n",
    "    for x in graph.nodes:\n",
    "        if x.type == 0:\n",
    "            numOfCars += 1\n",
    "    numTrips = (len(graph.nodes)-numOfCars)/2\n",
    "    \n",
    "    solutions = []\n",
    "    visited = [False] * len(graph.nodes) # will indicate if a node has been visited yet\n",
    "    \n",
    "    nodePointer = 0\n",
    "\n",
    "\n",
    "    for n in graph.nodes:\n",
    "        solution = []\n",
    "        if n.type == 0: # finds a car as the starting point\n",
    "            solution.append(n.id)\n",
    "            visited[n.id] = True\n",
    "            s = 0\n",
    "            while s < carSize and s < (len(graph.nodes)/2)-1:\n",
    "                if graph.getNodeFromId(nodePointer).type != 0:\n",
    "                    solution.append(nodePointer)\n",
    "                    solution.append(nodePointer + 1)\n",
    "\n",
    "                    nodePointer += 2\n",
    "                    s += 1\n",
    "                else:\n",
    "                    nodePointer += 1\n",
    "\n",
    "            solutions.append(solution)\n",
    "\n",
    "    return solutions"
   ]
  },
  {
   "cell_type": "code",
   "execution_count": 10,
   "metadata": {},
   "outputs": [
    {
     "name": "stdout",
     "output_type": "stream",
     "text": [
      "[[0, 3, 4, 5, 6, 7, 8], [1, 9, 10, 11, 12, 13, 14], [2, 15, 16, 17, 18, 19, 20]]\n"
     ]
    }
   ],
   "source": [
    "solutions = initSolution2(pickupNetwork2)\n",
    "\n",
    "print(solutions)\n"
   ]
  },
  {
   "cell_type": "code",
   "execution_count": 11,
   "metadata": {},
   "outputs": [],
   "source": [
    "def neighborhood2(solutions, graph): # returns all the possible swaps for a given solution \n",
    "    neighborhood = []\n",
    "    neighborhood2 = []\n",
    "\n",
    "    for s in range(len(solutions)):\n",
    "        for x in range(1, len(solutions[s])):\n",
    "            for y in range(x + 1, len(solutions[s])):\n",
    "                newSolution = copy.deepcopy(solutions)\n",
    "                newSolution[s][x], newSolution[s][y] = newSolution[s][y], newSolution[s][x] # swap 2 values \n",
    "                if checkSolution(newSolution[s], graph) == True: # check if swap is valid\n",
    "                    neighborhood.append(newSolution) # if swap is good add it to the list \n",
    "        \n",
    "    for s in range(len(solutions)):\n",
    "        for pos in range(1, len(solutions[s])):\n",
    "            if graph.getNodeFromId(solutions[s][pos]).type == 1:\n",
    "                start = pos\n",
    "                end = solutions[s].index(graph.getNodeFromId(solutions[s][pos]+1).id)\n",
    "\n",
    "                for sol in range(s+1, len(solutions)):\n",
    "                    for index in range(1, len(solutions[s])):\n",
    "                        if graph.getNodeFromId(solutions[sol][index]).type == 1:\n",
    "                            newSolution = copy.deepcopy(solutions)\n",
    "                            temp1, temp2 = newSolution[s][start], newSolution[s][end]\n",
    "                            newSolution[s][start], newSolution[s][end] = newSolution[sol][index], newSolution[sol][solutions[sol].index(graph.getNodeFromId(solutions[sol][index]+1).id)]\n",
    "                            newSolution[sol][index], newSolution[sol][solutions[sol].index(graph.getNodeFromId(solutions[sol][index]+1).id)] = temp1, temp2\n",
    "                            neighborhood2.append(newSolution)\n",
    "\n",
    "\n",
    "    \n",
    "    return neighborhood, neighborhood2"
   ]
  },
  {
   "cell_type": "code",
   "execution_count": 12,
   "metadata": {},
   "outputs": [],
   "source": [
    "def fitnessFunc2(solutions, graph):\n",
    "    value = 0\n",
    "    for solution in solutions:\n",
    "        for n in range(1, len(solution)):\n",
    "            n1 = solution[n]\n",
    "            n2 = solution[n-1]\n",
    "            value += graph.getEdgeFromEdgeNodes(n2, n1).weight # adds up the weight of all the edges in the path\n",
    "    \n",
    "    return value"
   ]
  },
  {
   "cell_type": "code",
   "execution_count": null,
   "metadata": {},
   "outputs": [],
   "source": []
  },
  {
   "cell_type": "code",
   "execution_count": 13,
   "metadata": {},
   "outputs": [
    {
     "name": "stdout",
     "output_type": "stream",
     "text": [
      "[[[0, 3, 5, 4, 6, 7, 8], [1, 9, 10, 11, 12, 13, 14], [2, 15, 16, 17, 18, 19, 20]], [[0, 3, 7, 5, 6, 4, 8], [1, 9, 10, 11, 12, 13, 14], [2, 15, 16, 17, 18, 19, 20]], [[0, 3, 4, 5, 7, 6, 8], [1, 9, 10, 11, 12, 13, 14], [2, 15, 16, 17, 18, 19, 20]], [[0, 3, 4, 5, 6, 7, 8], [1, 9, 11, 10, 12, 13, 14], [2, 15, 16, 17, 18, 19, 20]], [[0, 3, 4, 5, 6, 7, 8], [1, 9, 13, 11, 12, 10, 14], [2, 15, 16, 17, 18, 19, 20]], [[0, 3, 4, 5, 6, 7, 8], [1, 9, 10, 11, 13, 12, 14], [2, 15, 16, 17, 18, 19, 20]], [[0, 3, 4, 5, 6, 7, 8], [1, 9, 10, 11, 12, 13, 14], [2, 15, 17, 16, 18, 19, 20]], [[0, 3, 4, 5, 6, 7, 8], [1, 9, 10, 11, 12, 13, 14], [2, 15, 19, 17, 18, 16, 20]], [[0, 3, 4, 5, 6, 7, 8], [1, 9, 10, 11, 12, 13, 14], [2, 15, 16, 17, 19, 18, 20]]]\n",
      "\n",
      "\n",
      "[[[0, 9, 10, 5, 6, 7, 8], [1, 3, 4, 11, 12, 13, 14], [2, 15, 16, 17, 18, 19, 20]], [[0, 11, 12, 5, 6, 7, 8], [1, 9, 10, 3, 4, 13, 14], [2, 15, 16, 17, 18, 19, 20]], [[0, 13, 14, 5, 6, 7, 8], [1, 9, 10, 11, 12, 3, 4], [2, 15, 16, 17, 18, 19, 20]], [[0, 15, 16, 5, 6, 7, 8], [1, 9, 10, 11, 12, 13, 14], [2, 3, 4, 17, 18, 19, 20]], [[0, 17, 18, 5, 6, 7, 8], [1, 9, 10, 11, 12, 13, 14], [2, 15, 16, 3, 4, 19, 20]], [[0, 19, 20, 5, 6, 7, 8], [1, 9, 10, 11, 12, 13, 14], [2, 15, 16, 17, 18, 3, 4]], [[0, 3, 4, 9, 10, 7, 8], [1, 5, 6, 11, 12, 13, 14], [2, 15, 16, 17, 18, 19, 20]], [[0, 3, 4, 11, 12, 7, 8], [1, 9, 10, 5, 6, 13, 14], [2, 15, 16, 17, 18, 19, 20]], [[0, 3, 4, 13, 14, 7, 8], [1, 9, 10, 11, 12, 5, 6], [2, 15, 16, 17, 18, 19, 20]], [[0, 3, 4, 15, 16, 7, 8], [1, 9, 10, 11, 12, 13, 14], [2, 5, 6, 17, 18, 19, 20]], [[0, 3, 4, 17, 18, 7, 8], [1, 9, 10, 11, 12, 13, 14], [2, 15, 16, 5, 6, 19, 20]], [[0, 3, 4, 19, 20, 7, 8], [1, 9, 10, 11, 12, 13, 14], [2, 15, 16, 17, 18, 5, 6]], [[0, 3, 4, 5, 6, 9, 10], [1, 7, 8, 11, 12, 13, 14], [2, 15, 16, 17, 18, 19, 20]], [[0, 3, 4, 5, 6, 11, 12], [1, 9, 10, 7, 8, 13, 14], [2, 15, 16, 17, 18, 19, 20]], [[0, 3, 4, 5, 6, 13, 14], [1, 9, 10, 11, 12, 7, 8], [2, 15, 16, 17, 18, 19, 20]], [[0, 3, 4, 5, 6, 15, 16], [1, 9, 10, 11, 12, 13, 14], [2, 7, 8, 17, 18, 19, 20]], [[0, 3, 4, 5, 6, 17, 18], [1, 9, 10, 11, 12, 13, 14], [2, 15, 16, 7, 8, 19, 20]], [[0, 3, 4, 5, 6, 19, 20], [1, 9, 10, 11, 12, 13, 14], [2, 15, 16, 17, 18, 7, 8]], [[0, 3, 4, 5, 6, 7, 8], [1, 15, 16, 11, 12, 13, 14], [2, 9, 10, 17, 18, 19, 20]], [[0, 3, 4, 5, 6, 7, 8], [1, 17, 18, 11, 12, 13, 14], [2, 15, 16, 9, 10, 19, 20]], [[0, 3, 4, 5, 6, 7, 8], [1, 19, 20, 11, 12, 13, 14], [2, 15, 16, 17, 18, 9, 10]], [[0, 3, 4, 5, 6, 7, 8], [1, 9, 10, 15, 16, 13, 14], [2, 11, 12, 17, 18, 19, 20]], [[0, 3, 4, 5, 6, 7, 8], [1, 9, 10, 17, 18, 13, 14], [2, 15, 16, 11, 12, 19, 20]], [[0, 3, 4, 5, 6, 7, 8], [1, 9, 10, 19, 20, 13, 14], [2, 15, 16, 17, 18, 11, 12]], [[0, 3, 4, 5, 6, 7, 8], [1, 9, 10, 11, 12, 15, 16], [2, 13, 14, 17, 18, 19, 20]], [[0, 3, 4, 5, 6, 7, 8], [1, 9, 10, 11, 12, 17, 18], [2, 15, 16, 13, 14, 19, 20]], [[0, 3, 4, 5, 6, 7, 8], [1, 9, 10, 11, 12, 19, 20], [2, 15, 16, 17, 18, 13, 14]]]\n"
     ]
    }
   ],
   "source": [
    "swapPos, swapCars = neighborhood2(solutions, pickupNetwork2)\n",
    "\n",
    "print(swapPos)\n",
    "print(\"\\n\")\n",
    "print(swapCars)"
   ]
  },
  {
   "cell_type": "code",
   "execution_count": 14,
   "metadata": {},
   "outputs": [],
   "source": [
    "def tabuSearch2(graph, iterations, tabuSize, s):\n",
    "    counts = []\n",
    "    bestSolution = s\n",
    "    solution = bestSolution\n",
    "    tabuList = list()\n",
    "    tabuList2 = list()\n",
    "    bestCost = fitnessFunc2(bestSolution, graph)\n",
    "    counter = 1\n",
    "\n",
    "    while counter <= iterations:\n",
    "        neighbours, neighbours2 = neighborhood2(solution, graph)\n",
    "        # print(neighbours)\n",
    "        found = False # indicates we found a set of different nodes that are not in the tabu list \n",
    "        currentBestSolutionIndex = 0\n",
    "        currentBestSolution = neighbours[currentBestSolutionIndex]\n",
    "\n",
    "        while not found and currentBestSolutionIndex < len(neighbours) - 1:\n",
    "            i = 0\n",
    "            breaks = False\n",
    "            while i < len(currentBestSolution):\n",
    "                j = 0\n",
    "                while j < len(currentBestSolution[i]):\n",
    "                    if currentBestSolution[i][j] != solution[i][j]: # if the same node position is not equal \n",
    "                        firstNode = currentBestSolution[i][j]\n",
    "                        secondNode = solution[i][j]\n",
    "                        breaks = True\n",
    "                        break\n",
    "                    j += 1\n",
    "                    if breaks:\n",
    "                        break\n",
    "                i += 1\n",
    "\n",
    "            if [firstNode, secondNode] not in tabuList and [secondNode, firstNode] not in tabuList: # check if the swap is in the tabu list or not \n",
    "                tabuList.append([firstNode, secondNode]) # add the set to the tabuList\n",
    "                found = True \n",
    "\n",
    "                solution = currentBestSolution\n",
    "                cost = fitnessFunc2(currentBestSolution, graph)\n",
    "\n",
    "                if cost < bestCost: # checks if the new solution is better than the current best \n",
    "                    bestCost = cost\n",
    "                    bestSolution = solution\n",
    "            \n",
    "            else:\n",
    "                currentBestSolutionIndex += 1 # if nothing was found in with the current swap, go the the next one \n",
    "                currentBestSolution = neighbours[currentBestSolutionIndex]\n",
    "        \n",
    "        if len(tabuList) >= tabuSize:\n",
    "            tabuList.pop(0) # removes the oldest element in the list\n",
    "\n",
    "        counter = counter + 1\n",
    "\n",
    "        if len(neighbours2) > 0:\n",
    "            found = False\n",
    "            size = 0\n",
    "            nextSoluiton = neighbours2[size]\n",
    "\n",
    "            while not found and size < len(neighbours2) - 1:\n",
    "                i = 0\n",
    "                breaks = False\n",
    "                while i < len(nextSoluiton): \n",
    "                    j = 0\n",
    "                    pointsFound = 0\n",
    "                    while j < len(nextSoluiton[i]):\n",
    "                        if nextSoluiton[i][j] != solution[i][j]:\n",
    "                            if pointsFound == 0:\n",
    "                                start1 = nextSoluiton[i][j]\n",
    "                                start2 = solution[i][j]\n",
    "                                pointsFound += 1\n",
    "                            else:\n",
    "                                end1 = nextSoluiton[i][j]\n",
    "                                end2 = solution[i][j]\n",
    "                                breaks = True\n",
    "                                break\n",
    "                        j += 1\n",
    "                    if breaks == True:\n",
    "                        break\n",
    "                    i += 1\n",
    "\n",
    "                if [[start1, end1], [start2, end2]] not in tabuList2 and [[start2, end2], [start1, end1]] not in tabuList2:\n",
    "                    tabuList2.append([[start1, end1], [start2, end2]])\n",
    "                    found = True \n",
    "\n",
    "                    solution = nextSoluiton\n",
    "                    cost = fitnessFunc2(solution, graph)\n",
    "\n",
    "                    if cost < bestCost: # checks if the new solution is better than the current best \n",
    "                        bestCost = cost\n",
    "                        bestSolution = solution\n",
    "                else:\n",
    "                    size += 1 # if nothing was found in with the current swap, go the the next one \n",
    "                    nextSoluiton = neighbours2[size]\n",
    "\n",
    "                if len(tabuList2) >= tabuSize:\n",
    "                    tabuList2.pop(0) # removes the oldest element in the list\n",
    "        counts.append(bestCost)\n",
    "    \n",
    "    return bestSolution, bestCost, counts"
   ]
  },
  {
   "cell_type": "code",
   "execution_count": 23,
   "metadata": {},
   "outputs": [
    {
     "name": "stdout",
     "output_type": "stream",
     "text": [
      "Start solution:  [[0, 3, 4, 5, 6, 7, 8], [1, 9, 10, 11, 12, 13, 14], [2, 15, 16, 17, 18, 19, 20]]  Cost:  204083.90000000002\n",
      "End solution:  [[0, 13, 7, 19, 20, 14, 8], [1, 11, 12, 9, 10, 3, 4], [2, 5, 6, 15, 16, 17, 18]]  Cost:  120763.9\n"
     ]
    }
   ],
   "source": [
    "bestSolution, bestCost, counts = tabuSearch2(pickupNetwork2, 100000, 30, solutions)\n",
    "print(\"Start solution: \", solutions, \" Cost: \", fitnessFunc2(solutions, pickupNetwork2))\n",
    "print(\"End solution: \", bestSolution, \" Cost: \", bestCost)"
   ]
  },
  {
   "cell_type": "markdown",
   "metadata": {},
   "source": [
    "#### Graphing"
   ]
  },
  {
   "cell_type": "code",
   "execution_count": 17,
   "metadata": {},
   "outputs": [],
   "source": [
    "def costOverTime(costs, iterations):\n",
    "    eps = []\n",
    "    for x in range(1, iterations+1):\n",
    "        eps.append(x)\n",
    "\n",
    "    plt.plot(eps, costs)\n",
    "    plt.ylim(0, max(costs)+10000)"
   ]
  },
  {
   "cell_type": "code",
   "execution_count": 25,
   "metadata": {},
   "outputs": [
    {
     "data": {
      "image/png": "[encoded data removed]",
      "text/plain": [
       "<Figure size 432x288 with 1 Axes>"
      ]
     },
     "metadata": {
      "needs_background": "light"
     },
     "output_type": "display_data"
    }
   ],
   "source": [
    "costOverTime(counts, 100000)"
   ]
  },
  {
   "cell_type": "markdown",
   "metadata": {},
   "source": [
    "### Genetic Algorithm "
   ]
  },
  {
   "cell_type": "code",
   "execution_count": 53,
   "metadata": {},
   "outputs": [],
   "source": [
    "class geneticAlgorithm:\n",
    "    def __init__(self, graph, ps):\n",
    "        self.graph = graph\n",
    "        self.populationSize = ps\n",
    "        self.population = []\n",
    "        self.fitness = []\n",
    "        self.normFitness = [999] * ps\n",
    "\n",
    "        self.initPopulation()\n",
    "        self.normalizeFitness()\n",
    "    \n",
    "    def initPopulation(self):\n",
    "        for x in range(self.populationSize):\n",
    "            self.population.append(initSolution(self.graph))\n",
    "            self.fitness.append(fitnessFunc(self.population[x], self.graph))\n",
    "    \n",
    "    def normalizeFitness(self):\n",
    "        total = 0\n",
    "        for i in range(self.populationSize):\n",
    "            total += self.fitness[i]\n",
    "\n",
    "        for i in range(self.populationSize):\n",
    "            self.normFitness[i] = self.fitness[i]/total\n",
    "    \n",
    "    def pickSolution(self):\n",
    "        index = 0\n",
    "        r = random.uniform(0, 1)\n",
    "\n",
    "        while r > 0:\n",
    "            r = r - self.normFitness[index]\n",
    "            index += 1\n",
    "        \n",
    "        return self.population[index-1]\n",
    "    \n",
    "    def swap(self, solution):\n",
    "        swapped = False\n",
    "        while not swapped:\n",
    "            n1 = random.randint(1, len(self.graph.nodes)-1)\n",
    "            n2 = random.randint(1, len(self.graph.nodes)-1)\n",
    "            newSolution = solution.copy()\n",
    "            newSolution[n1], newSolution[n2] = newSolution[n2], newSolution[n1]\n",
    "            swapped = checkSolution(newSolution, self.graph)\n",
    "\n",
    "        return newSolution\n",
    "    \n",
    "    def mutateSolution(self, solution, mutationFactor):\n",
    "        newSolution = self.swap(solution)\n",
    "        return newSolution\n",
    "    \n",
    "    def findBestSolution(self):\n",
    "        bestSolution = self.population[0]\n",
    "        bestCost = self.fitness[0]\n",
    "        for i in range(1, self.populationSize):\n",
    "            if self.fitness[i] < bestCost:\n",
    "                bestCost = self.fitness[i]\n",
    "                bestSolution = self.population[i]\n",
    "        \n",
    "        return bestSolution, bestCost\n",
    "        \n",
    "    \n",
    "    def geneticAlgorithm(self, iterations):\n",
    "        bestSolution, bestCost = self.findBestSolution()\n",
    "        for iter in range(iterations):\n",
    "            newPopultion = []\n",
    "            newFitness = []\n",
    "            for s in range(self.populationSize):\n",
    "                newPopultion.append(self.mutateSolution(self.pickSolution(), 1))\n",
    "                newFitness.append(fitnessFunc(newPopultion[s], self.graph))\n",
    "            self.population = newPopultion\n",
    "            self.fitness = newFitness\n",
    "            self.normalizeFitness()\n",
    "\n",
    "            popBestSolution, popBestCost = self.findBestSolution()\n",
    "            if popBestCost < bestCost:\n",
    "                bestSolution = popBestSolution\n",
    "                bestCost = popBestCost\n",
    "        \n",
    "        return bestSolution, bestCost"
   ]
  },
  {
   "cell_type": "code",
   "execution_count": 58,
   "metadata": {},
   "outputs": [
    {
     "name": "stdout",
     "output_type": "stream",
     "text": [
      "End solution:  [0, 1, 5, 2, 3, 6, 4]  Cost:  50414.899999999994\n"
     ]
    }
   ],
   "source": [
    "g = geneticAlgorithm(pickupNetwork, 100)\n",
    "\n",
    "s, c = g.geneticAlgorithm(1000)\n",
    "\n",
    "print(\"End solution: \", s, \" Cost: \", c)"
   ]
  },
  {
   "cell_type": "markdown",
   "metadata": {},
   "source": [
    "### testing area "
   ]
  },
  {
   "cell_type": "code",
   "execution_count": null,
   "metadata": {},
   "outputs": [
    {
     "name": "stdout",
     "output_type": "stream",
     "text": [
      "{'code': 'Ok', 'routes': [{'geometry': 'ioezE__`wAi@jEj@rGwKfMe@fC`ClG`XlLtCtChFfL~UxMjFbAbCwAxOpCn[eG`O]pQxC`Ce@bBrBtMxE', 'legs': [{'steps': [], 'distance': 4153.7, 'duration': 312.7, 'summary': '', 'weight': 312.7}], 'distance': 4153.7, 'duration': 312.7, 'weight_name': 'routability', 'weight': 312.7}], 'waypoints': [{'hint': 'SegAgGHoAIAAAAAAbAAAAAAAAAAfAAAAAAAAAN0ClkIAAAAA7aepQQAAAABsAAAAAAAAAB8AAAAgAAAAABTcADQCJALEFNwA0wEkAgAAfxFEWslf', 'distance': 20.706096, 'name': 'Triq Sir Arthur Borton', 'location': [14.42304, 35.914292]}, {'hint': '7MIAgAzDAIAcAAAAXAAAAO0AAAB3AAAASikZQo_98UJuL51DgQkeQxwAAABcAAAA7QAAAHcAAAAgAAAAY9fbAPWbIwIz1tsAQpwjAgYAHwFEWslf', 'distance': 28.75223, 'name': 'Triq tal-Infetti', 'location': [14.407523, 35.888117]}]}\n"
     ]
    }
   ],
   "source": [
    "\n",
    "r = requests.get('http://127.0.0.1:5000/route/v1/driving/14.423235598020154,35.91419450996914;14.407218690503381,35.888194056331706?steps=false')\n",
    "\n",
    "data = r.json()\n",
    "\n",
    "print(data)"
   ]
  },
  {
   "cell_type": "code",
   "execution_count": null,
   "metadata": {},
   "outputs": [
    {
     "name": "stdout",
     "output_type": "stream",
     "text": [
      "4153.7\n",
      "ioezE__`wAi@jEj@rGwKfMe@fC`ClG`XlLtCtChFfL~UxMjFbAbCwAxOpCn[eG`O]pQxC`Ce@bBrBtMxE\n"
     ]
    }
   ],
   "source": [
    "print(data['routes'][0]['distance'])\n",
    "print(data['routes'][0]['geometry'])"
   ]
  }
 ],
 "metadata": {
  "interpreter": {
   "hash": "a2a44c1f9c79ffc527d0d9b38d320b006bac68ea2cce737bfaaa463c76796e8d"
  },
  "kernelspec": {
   "display_name": "Python 3.10.4 64-bit",
   "language": "python",
   "name": "python3"
  },
  "language_info": {
   "codemirror_mode": {
    "name": "ipython",
    "version": 3
   },
   "file_extension": ".py",
   "mimetype": "text/x-python",
   "name": "python",
   "nbconvert_exporter": "python",
   "pygments_lexer": "ipython3",
   "version": "3.10.4"
  },
  "orig_nbformat": 4
 },
 "nbformat": 4,
 "nbformat_minor": 2
}
